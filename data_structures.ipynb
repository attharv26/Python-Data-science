{
 "cells": [
  {
   "cell_type": "markdown",
   "metadata": {},
   "source": [
    "# DATA STRUCTURES\n",
    "`list []` \n",
    "- indexed \n",
    "- ordered \n",
    "- mutable\n",
    "- hetrogeneous \n",
    "- can have duplicates\n",
    "- list() : to convert anything to list\n",
    "\n",
    "`tuple ()`\n",
    "- indexed \n",
    "- ordered \n",
    "- immutable\n",
    "- hetrogeneous \n",
    "- can have duplicates\n",
    "- tuple() : to convert anything to tuple\n",
    "\n",
    "`set {}`\n",
    "- unindexed \n",
    "- unordered \n",
    "- mutable\n",
    "- hetrogeneous \n",
    "- can have only unique values\n",
    "- set() :to convert anything to set\n",
    "\n",
    "`dictionary {}`\n",
    "- unindexed \n",
    "- ordered \n",
    "- mutable\n",
    "- hetrogeneous \n",
    "- can have duplicates\n",
    "- works in key value pairs\n",
    "- dict() : to convert anything to dictionary"
   ]
  },
  {
   "cell_type": "code",
   "execution_count": 1,
   "metadata": {},
   "outputs": [
    {
     "name": "stdout",
     "output_type": "stream",
     "text": [
      "[]\n",
      "[1, 2, 3, 4]\n",
      "['hello', 'world']\n",
      "['apple', 1, 'banana', 2]\n",
      "[[1, 2, 3], [4, 5, 6, 7], [8, 9, 10]]\n",
      "[['apple', 1], ['banana', 2], ['cherry', 3]]\n"
     ]
    }
   ],
   "source": [
    "#list\n",
    "a = [] #empty list\n",
    "b = [1,2,3,4] #numerical list\n",
    "c = ['hello', 'world'] #string list\n",
    "d = ['apple', 1, 'banana', 2] #mixed list\n",
    "e = [[1,2,3], [4,5,6,7], [8,9,10]] #list of list\n",
    "f = [['apple', 1], ['banana', 2], ['cherry', 3]] #mixed nested list\n",
    "print(a)\n",
    "print(b)\n",
    "print(c)\n",
    "print(d)\n",
    "print(e)\n",
    "print(f)"
   ]
  },
  {
   "cell_type": "code",
   "execution_count": 6,
   "metadata": {},
   "outputs": [
    {
     "name": "stdout",
     "output_type": "stream",
     "text": [
      "['h', 'e', 'l', 'l', 'o']\n",
      "[0, 1, 2, 3, 4, 5, 6, 7, 8, 9]\n",
      "[1, 2, 3, 1, 2, 3, 1, 2, 3, 1, 2, 3, 1, 2, 3]\n",
      "[1, 2, 3, 4, 5]\n"
     ]
    }
   ],
   "source": [
    "print(list('hello')) #will convert hello into a list\n",
    "h = list(range(10))\n",
    "print(h)\n",
    "i = list((1,2,3,4,5))\n",
    "j = [1,2,3] * 5 #duplicated list\n",
    "print(j)\n",
    "print(i)"
   ]
  },
  {
   "cell_type": "code",
   "execution_count": 8,
   "metadata": {},
   "outputs": [
    {
     "name": "stdout",
     "output_type": "stream",
     "text": [
      "['ZNMD', 'YJHD', 'Gangs of Wasseypur', 'sex and the city', '50 shades of grey', '365 days']\n",
      "6\n",
      "first movie ZNMD\n",
      "last movie 365 days\n"
     ]
    }
   ],
   "source": [
    "movies = ['ZNMD', 'YJHD', 'Gangs of Wasseypur','sex and the city','50 shades of grey', '365 days' ]\n",
    "print(movies)\n",
    "print(len(movies))\n",
    "print('first movie', movies[0])\n",
    "print('last movie', movies[-1])"
   ]
  },
  {
   "cell_type": "code",
   "execution_count": 10,
   "metadata": {},
   "outputs": [
    {
     "name": "stdout",
     "output_type": "stream",
     "text": [
      "[1, 2, 3]\n",
      "[8, 9, 10]\n",
      "[3, 4, 5, 6, 7, 8]\n",
      "[10, 9, 8, 7, 6, 5, 4, 3, 2, 1]\n"
     ]
    }
   ],
   "source": [
    "numbers = list(range(1,11))\n",
    "print(numbers[:3])\n",
    "print(numbers[-3:])\n",
    "print(numbers[2:-2])\n",
    "print(numbers[::-1])"
   ]
  },
  {
   "cell_type": "markdown",
   "metadata": {},
   "source": [
    "## List methods (11)\n",
    "- `adding/updating`\n",
    "  - append()\n",
    "  - extend()\n",
    "  - insert()\n",
    "- `removing/deletion`\n",
    "  - remove()\n",
    "  - pop()\n",
    "  - clear()\n",
    "- `utility methods`\n",
    "  - sort()\n",
    "  - reverse()\n",
    "  - count()\n",
    "  - copy()"
   ]
  },
  {
   "cell_type": "code",
   "execution_count": 20,
   "metadata": {},
   "outputs": [
    {
     "name": "stdout",
     "output_type": "stream",
     "text": [
      "['a', 'b', 'c', 'd', 'e']\n",
      "['f', 'g', 'h']\n"
     ]
    }
   ],
   "source": [
    "fav_books = []\n",
    "hated_books = []\n",
    "for i in range(5):\n",
    "    fav_books.append(input('enter your fav book'))\n",
    "for i in range(3):\n",
    "    hated_books.append(input('enter your hated book'))\n",
    "print(fav_books)\n",
    "print(hated_books)"
   ]
  },
  {
   "cell_type": "code",
   "execution_count": 21,
   "metadata": {},
   "outputs": [
    {
     "name": "stdout",
     "output_type": "stream",
     "text": [
      "['a', 'b', 'c', 'd', 'e', 'f', 'g', 'h']\n"
     ]
    }
   ],
   "source": [
    "# merge two list and create a new list\n",
    "books = fav_books + hated_books\n",
    "print(books)"
   ]
  },
  {
   "cell_type": "code",
   "execution_count": 23,
   "metadata": {},
   "outputs": [
    {
     "name": "stdout",
     "output_type": "stream",
     "text": [
      "['a', 'b', 'c', 'd', 'e', 'f', 'g', 'h', 'legion', 'chacha choudhry', 'treasure trove', 'legion', 'chacha choudhry', 'treasure trove']\n",
      "total books:  14\n"
     ]
    }
   ],
   "source": [
    "# adding a list to existing list\n",
    "books.extend(['legion', 'chacha choudhry', 'treasure trove'])\n",
    "print(books)\n",
    "print('total books: ', len(books))"
   ]
  },
  {
   "cell_type": "code",
   "execution_count": 25,
   "metadata": {},
   "outputs": [
    {
     "data": {
      "text/plain": [
       "['a',\n",
       " 'b',\n",
       " 'abcd',\n",
       " 'abcd',\n",
       " 'c',\n",
       " 'd',\n",
       " 'e',\n",
       " 'f',\n",
       " 'g',\n",
       " 'h',\n",
       " 'legion',\n",
       " 'chacha choudhry',\n",
       " 'treasure trove',\n",
       " 'legion',\n",
       " 'chacha choudhry',\n",
       " 'treasure trove']"
      ]
     },
     "execution_count": 25,
     "metadata": {},
     "output_type": "execute_result"
    }
   ],
   "source": [
    "books.insert(2, 'abcd')"
   ]
  },
  {
   "cell_type": "code",
   "execution_count": 28,
   "metadata": {},
   "outputs": [
    {
     "ename": "ValueError",
     "evalue": "list.remove(x): x not in list",
     "output_type": "error",
     "traceback": [
      "\u001b[1;31m---------------------------------------------------------------------------\u001b[0m",
      "\u001b[1;31mValueError\u001b[0m                                Traceback (most recent call last)",
      "Cell \u001b[1;32mIn[28], line 2\u001b[0m\n\u001b[0;32m      1\u001b[0m \u001b[38;5;66;03m# remove\u001b[39;00m\n\u001b[1;32m----> 2\u001b[0m books\u001b[38;5;241m.\u001b[39mremove(\u001b[38;5;124m'\u001b[39m\u001b[38;5;124mchacha choudhry\u001b[39m\u001b[38;5;124m'\u001b[39m)\n",
      "\u001b[1;31mValueError\u001b[0m: list.remove(x): x not in list"
     ]
    }
   ],
   "source": [
    "# remove\n",
    "books.remove('chacha choudhry') #remove by value"
   ]
  },
  {
   "cell_type": "code",
   "execution_count": 33,
   "metadata": {},
   "outputs": [],
   "source": [
    "books.pop(6) #remove by index\n",
    "books.pop() #removes last index\n",
    "books.clear() # remove all elements\n"
   ]
  },
  {
   "cell_type": "markdown",
   "metadata": {},
   "source": [
    "### WAP to create an empty list and, then fill the list with 10 prime numbers"
   ]
  },
  {
   "cell_type": "code",
   "execution_count": 13,
   "metadata": {},
   "outputs": [
    {
     "name": "stdout",
     "output_type": "stream",
     "text": [
      "[2, 3, 5, 7, 11, 13, 17, 19, 23, 29]\n"
     ]
    }
   ],
   "source": [
    "prime=[]\n",
    "c=0\n",
    "p=2\n",
    "k=0\n",
    "while c<10:\n",
    "    k=0\n",
    "    for i in range(1,p):\n",
    "        if p%i==0:\n",
    "            k+=1\n",
    "    if k==1:\n",
    "        c+=1\n",
    "        prime.append(p)\n",
    "    p+=1\n",
    "print(prime)"
   ]
  },
  {
   "cell_type": "code",
   "execution_count": 38,
   "metadata": {},
   "outputs": [
    {
     "name": "stdout",
     "output_type": "stream",
     "text": [
      "[9, 6, 7, 6, 4, 98, 21, 3, 4]\n",
      "[4, 3, 21, 98, 4, 6, 7, 6, 9]\n"
     ]
    }
   ],
   "source": [
    "numbers = [4,3,21,98,4,6,7,6,9]\n",
    "#reverse\n",
    "print(numbers[::-1])# gives result but doesn't change the original list\n",
    "print(numbers)"
   ]
  },
  {
   "cell_type": "code",
   "execution_count": 39,
   "metadata": {},
   "outputs": [
    {
     "name": "stdout",
     "output_type": "stream",
     "text": [
      "[9, 6, 7, 6, 4, 98, 21, 3, 4]\n"
     ]
    }
   ],
   "source": [
    "numbers.reverse() #changes the original list\n",
    "print(numbers)"
   ]
  },
  {
   "cell_type": "code",
   "execution_count": 41,
   "metadata": {},
   "outputs": [
    {
     "name": "stdout",
     "output_type": "stream",
     "text": [
      "[3, 4, 4, 6, 6, 7, 9, 21, 98]\n"
     ]
    }
   ],
   "source": [
    "numbers.sort() #ascending order, changes the original list\n",
    "print(numbers)"
   ]
  },
  {
   "cell_type": "code",
   "execution_count": 42,
   "metadata": {},
   "outputs": [
    {
     "name": "stdout",
     "output_type": "stream",
     "text": [
      "[98, 21, 9, 7, 6, 6, 4, 4, 3]\n"
     ]
    }
   ],
   "source": [
    "numbers.sort(reverse=True)# descending order\n",
    "print(numbers)"
   ]
  },
  {
   "cell_type": "code",
   "execution_count": 43,
   "metadata": {},
   "outputs": [
    {
     "name": "stdout",
     "output_type": "stream",
     "text": [
      "[[1, 12], [2, 5], [4, 5], [5, 10]]\n"
     ]
    }
   ],
   "source": [
    "x = [[1 ,12], [2, 5], [5, 10], [4, 5]]\n",
    "x.sort() #sort by first element of the list\n",
    "print(x)"
   ]
  },
  {
   "cell_type": "code",
   "execution_count": 45,
   "metadata": {},
   "outputs": [
    {
     "name": "stdout",
     "output_type": "stream",
     "text": [
      "[[2, 5], [4, 5], [5, 10], [1, 12]]\n"
     ]
    }
   ],
   "source": [
    "x.sort(key= lambda e: e[1]) #will access according to 1st element(lambda function)\n",
    "print(x)"
   ]
  },
  {
   "cell_type": "code",
   "execution_count": 46,
   "metadata": {},
   "outputs": [
    {
     "name": "stdout",
     "output_type": "stream",
     "text": [
      "[[1, 12], [5, 10], [2, 5], [4, 5]]\n"
     ]
    }
   ],
   "source": [
    "x.sort(key= lambda e: e[1], reverse=True)\n",
    "print(x)"
   ]
  },
  {
   "cell_type": "code",
   "execution_count": 48,
   "metadata": {},
   "outputs": [
    {
     "name": "stdout",
     "output_type": "stream",
     "text": [
      "[[2, 5], [4, 5], [1, 12], [5, 10]]\n"
     ]
    }
   ],
   "source": [
    "x.sort(key=lambda i : sum(i))\n",
    "print(x)"
   ]
  },
  {
   "cell_type": "code",
   "execution_count": 54,
   "metadata": {},
   "outputs": [
    {
     "name": "stdout",
     "output_type": "stream",
     "text": [
      "[('Bob', 19), ('Alice', 25), ('Alex', 35)]\n"
     ]
    }
   ],
   "source": [
    "users = [('Alice', 25), ('Bob', 19), ('Alex', 35)]\n",
    "users.sort(key= lambda i: i[1])\n",
    "print(users)"
   ]
  },
  {
   "cell_type": "code",
   "execution_count": 59,
   "metadata": {},
   "outputs": [
    {
     "name": "stdout",
     "output_type": "stream",
     "text": [
      "[['mobile', 25000, 2], ['laptop', 60000, 3], ['headphone', 3000, 5]]\n"
     ]
    }
   ],
   "source": [
    "cart = [\n",
    "['mobile', 25000, 2],\n",
    "['laptop', 60000, 3],\n",
    "['headphone', 3000, 5]\n",
    "]\n",
    "cart.sort(key= lambda i: i[2])\n",
    "print(cart)"
   ]
  },
  {
   "cell_type": "code",
   "execution_count": 62,
   "metadata": {},
   "outputs": [
    {
     "name": "stdout",
     "output_type": "stream",
     "text": [
      "1 occurs 6\n",
      "5 occurs 3\n",
      "10 occurs 0\n"
     ]
    }
   ],
   "source": [
    "a = [1,2,3,4,5,5,1,2,1,14,5,6,1,1,11,1]\n",
    "print('1 occurs', a.count(1))\n",
    "print('5 occurs', a.count(5))\n",
    "print('10 occurs', a.count(10))\n"
   ]
  },
  {
   "cell_type": "code",
   "execution_count": 64,
   "metadata": {},
   "outputs": [
    {
     "data": {
      "text/plain": [
       "3"
      ]
     },
     "execution_count": 64,
     "metadata": {},
     "output_type": "execute_result"
    }
   ],
   "source": [
    "numbers.index(7)"
   ]
  },
  {
   "cell_type": "code",
   "execution_count": 71,
   "metadata": {},
   "outputs": [
    {
     "name": "stdout",
     "output_type": "stream",
     "text": [
      "[1, 2, 3, 4, 5]\n",
      "[1, 2, 3, 4, 5]\n",
      "[1, 2, 3, 4, 5]\n",
      "[1, 2, 3, 4, 5, 6, 20]\n",
      "[1, 2, 3, 4, 5, 10]\n",
      "[1, 2, 3, 4, 5, 6, 20]\n",
      "0x12cdd513940\n",
      "0x12cdc5c0080\n",
      "0x12cdd513940\n"
     ]
    }
   ],
   "source": [
    "a = [1,2,3,4,5]\n",
    "b = a.copy() #shallow copy(new list with same elements)\n",
    "c = a        #reference copy(both a and c refer to same memory location)\n",
    "print(a)\n",
    "print(b)\n",
    "print(c)\n",
    "a.append(6)\n",
    "b.append(10)\n",
    "c.append(20)\n",
    "print(a)\n",
    "print(b)\n",
    "print(c)\n",
    "print(hex(id(a)))#print memory location(id()) in hexadecimal(hex())\n",
    "print(hex(id(b)))\n",
    "print(hex(id(c)))"
   ]
  },
  {
   "cell_type": "code",
   "execution_count": 92,
   "metadata": {},
   "outputs": [
    {
     "name": "stdout",
     "output_type": "stream",
     "text": [
      "1292203287744\n",
      "[1, 4, 36, 16]\n",
      "1292202903168\n"
     ]
    }
   ],
   "source": [
    "x = [1,2,6,4]\n",
    "x = list(map(lambda i: i**2 ,x))\n",
    "print(x)\n"
   ]
  },
  {
   "cell_type": "markdown",
   "metadata": {},
   "source": [
    "## Comprehension\n"
   ]
  },
  {
   "cell_type": "code",
   "execution_count": 94,
   "metadata": {},
   "outputs": [
    {
     "name": "stdout",
     "output_type": "stream",
     "text": [
      "[1, 16, 1296, 256]\n"
     ]
    }
   ],
   "source": [
    "#comprehension\n",
    "#syntax: new_list= [operation loop (condition)]\n",
    "x2= [i**2 for i in x]\n",
    "print(x2)"
   ]
  },
  {
   "cell_type": "code",
   "execution_count": 97,
   "metadata": {},
   "outputs": [
    {
     "name": "stdout",
     "output_type": "stream",
     "text": [
      "[4, 16, 36]\n"
     ]
    }
   ],
   "source": [
    "a = [1,2,3,4,5,6]\n",
    "aeven2 = [i**2 for i in a if i %2 == 0] #condition: only square if element is even\n",
    "print(aeven2)"
   ]
  },
  {
   "cell_type": "code",
   "execution_count": 99,
   "metadata": {},
   "outputs": [
    {
     "name": "stdout",
     "output_type": "stream",
     "text": [
      "[1, 9, 25]\n"
     ]
    }
   ],
   "source": [
    "#map and filter\n",
    "aodd2 = list(map(lambda i: i**2, filter(lambda i: i%2!=0,a)))\n",
    "print(aodd2)"
   ]
  },
  {
   "cell_type": "code",
   "execution_count": 133,
   "metadata": {},
   "outputs": [
    {
     "name": "stdout",
     "output_type": "stream",
     "text": [
      "A S\n",
      "B B\n",
      "C G\n",
      "D W\n"
     ]
    }
   ],
   "source": [
    "names = ['Alice Smith', 'Bob Brown', 'Charlie Green', 'David White']\n",
    "for i in names:\n",
    "    print(i[0], i[i.find(' ')+1])"
   ]
  },
  {
   "cell_type": "code",
   "execution_count": 114,
   "metadata": {},
   "outputs": [
    {
     "name": "stdout",
     "output_type": "stream",
     "text": [
      "A S\n",
      "B B\n",
      "C G\n",
      "D W\n"
     ]
    },
    {
     "data": {
      "text/plain": [
       "[None, None, None, None]"
      ]
     },
     "execution_count": 114,
     "metadata": {},
     "output_type": "execute_result"
    }
   ],
   "source": [
    "[print(i[0],i[i.find(' ')+1]) for i in names]"
   ]
  },
  {
   "cell_type": "markdown",
   "metadata": {},
   "source": [
    "## Tuples\n",
    "- creating\n",
    "- indexing and slicing\n",
    "- methods\n",
    "- packing & unpacking"
   ]
  },
  {
   "cell_type": "code",
   "execution_count": 4,
   "metadata": {},
   "outputs": [
    {
     "name": "stdout",
     "output_type": "stream",
     "text": [
      "() (1,) (1, 2, 3, 4, 5)\n",
      "((1, 2), (3, 4), (5, 6))\n",
      "('a', 1, 'b', 2)\n",
      "(1, 1, 1, 1, 1)\n",
      "('s', 't', 'o', 'r', 'm', 'l', 'i', 'g', 'h', 't', ' ', 'a', 'r', 'c', 'h', 'i', 'v', 'e', 's')\n",
      "(0, 1, 2, 3, 4, 5, 6, 7, 8, 9)\n"
     ]
    }
   ],
   "source": [
    "x = () #empty tuple\n",
    "y = (1,) #single element tuple\n",
    "z = (1,2,3,4,5) #multi-element tuple\n",
    "a = ((1,2,), (3,4), (5,6))  #nested tuple\n",
    "b = ('a', 1, 'b', 2) #mixed tuple\n",
    "c = (1,)*5 #duplicate tuple\n",
    "d = tuple('stormlight archives') #tuple from string\n",
    "e = tuple(range(10)) #sequence to tuple\n",
    "print(x,y,z)\n",
    "print(a)\n",
    "print(b)\n",
    "print(c)\n",
    "print(d)\n",
    "print(e)"
   ]
  },
  {
   "cell_type": "code",
   "execution_count": 7,
   "metadata": {},
   "outputs": [
    {
     "name": "stdout",
     "output_type": "stream",
     "text": [
      "(4, 3, 2, 1, 0)\n"
     ]
    }
   ],
   "source": [
    "# indexing & slicing same as strings and list\n",
    "print(e[4::-1]) # -1 makes this go in reverse"
   ]
  },
  {
   "cell_type": "code",
   "execution_count": 9,
   "metadata": {},
   "outputs": [
    {
     "name": "stdout",
     "output_type": "stream",
     "text": [
      "0\n",
      "4\n",
      "2\n",
      "1\n"
     ]
    }
   ],
   "source": [
    "#methods: indedx(search) & count()\n",
    "fruits = ('apple', 'banana', 'cherry', 'dragon fruit', 'apple')\n",
    "print(fruits.index('apple')) # returns index of first occurence of apple\n",
    "print(fruits.index('apple', 1)) # search starts from 1\n",
    "print(fruits.count('apple')) # counts no of occurences \n",
    "print(fruits.count('banana'))\n",
    "\n"
   ]
  },
  {
   "cell_type": "code",
   "execution_count": 11,
   "metadata": {},
   "outputs": [
    {
     "name": "stdout",
     "output_type": "stream",
     "text": [
      "(1, 2, 3)\n"
     ]
    }
   ],
   "source": [
    "x = 1,2,3 #tuple packing -> python automatically converts this into a tuple\n",
    "print(x)"
   ]
  },
  {
   "cell_type": "code",
   "execution_count": 20,
   "metadata": {},
   "outputs": [],
   "source": [
    "def stats(*data):\n",
    "    total = sum(data)\n",
    "    avg = total/len(data)\n",
    "    return total, round(avg ,2)"
   ]
  },
  {
   "cell_type": "code",
   "execution_count": 21,
   "metadata": {},
   "outputs": [
    {
     "name": "stdout",
     "output_type": "stream",
     "text": [
      "(258, 51.6)\n"
     ]
    }
   ],
   "source": [
    "s = stats(12,35,76,90,45)\n",
    "print(s)"
   ]
  },
  {
   "cell_type": "code",
   "execution_count": 23,
   "metadata": {},
   "outputs": [
    {
     "name": "stdout",
     "output_type": "stream",
     "text": [
      "12 45\n"
     ]
    }
   ],
   "source": [
    "# tuple unpacking\n",
    "a , b = 12, 45\n",
    "print(a,b)\n",
    "# a, b, c = 12, 34  ##error\n",
    "# a, b = 12, 34, 42  ##error\n",
    "# total, mean, max = stats(12,34,,56,78,8,99,0)  ##error"
   ]
  },
  {
   "cell_type": "code",
   "execution_count": 29,
   "metadata": {},
   "outputs": [
    {
     "name": "stdout",
     "output_type": "stream",
     "text": [
      "2 3 [4, 5, 6]\n"
     ]
    }
   ],
   "source": [
    "a , b, *c = (2,3,4,5,6) # 1 value each in a & b and the rest in c (which will be a list)\n",
    "print(a,b,c)"
   ]
  },
  {
   "cell_type": "code",
   "execution_count": 30,
   "metadata": {},
   "outputs": [
    {
     "name": "stdout",
     "output_type": "stream",
     "text": [
      "2\n",
      "[3, 4, 5]\n",
      "6\n"
     ]
    }
   ],
   "source": [
    "a , *b, c = (2,3,4,5,6)\n",
    "print(a)\n",
    "print(b)\n",
    "print(c)"
   ]
  },
  {
   "cell_type": "markdown",
   "metadata": {},
   "source": [
    "# SET\n",
    "- creating\n",
    "- methods\n",
    "- set operations\n",
    "  - union\n",
    "  - intersection\n",
    "  - difference\n",
    "  - symmetric difference\n",
    "  - issubset\n",
    "  - superset"
   ]
  },
  {
   "cell_type": "code",
   "execution_count": 31,
   "metadata": {},
   "outputs": [
    {
     "name": "stdout",
     "output_type": "stream",
     "text": [
      "set()\n",
      "{1, 2, 3, 4, 5, 6, 7}\n",
      "{1, 2, 3, 4}\n"
     ]
    }
   ],
   "source": [
    "x = set() #empty set\n",
    "y = {1,2,3,4,5,6,7} #set with elements\n",
    "z = {1,1,2,2,3,3,4,4} #set removes duplicates\n",
    "print(x)\n",
    "print(y)\n",
    "print(z)"
   ]
  },
  {
   "cell_type": "code",
   "execution_count": 32,
   "metadata": {},
   "outputs": [
    {
     "name": "stdout",
     "output_type": "stream",
     "text": [
      "{'h', 'o', 'l', 'e'}\n"
     ]
    }
   ],
   "source": [
    "a = set('hello')\n",
    "print(a)"
   ]
  },
  {
   "cell_type": "code",
   "execution_count": 49,
   "metadata": {},
   "outputs": [
    {
     "name": "stdout",
     "output_type": "stream",
     "text": [
      "{64, 78, 54, 23, 90}\n",
      "0 1 2 3 4 5 6 7 8 9 "
     ]
    }
   ],
   "source": [
    "b = set([23,54,64,78,90])\n",
    "print(b)\n",
    "c = set(range(10))\n",
    "for i in c:\n",
    "    print(i, end=\" \")"
   ]
  },
  {
   "cell_type": "code",
   "execution_count": 52,
   "metadata": {},
   "outputs": [
    {
     "name": "stdout",
     "output_type": "stream",
     "text": [
      "{9, 12, 13, 15}\n"
     ]
    }
   ],
   "source": [
    "data = set() #empty set\n",
    "data.add(12) #adds single element\n",
    "data.add(13)\n",
    "data.add(15)\n",
    "data.add(9)\n",
    "print(data)"
   ]
  },
  {
   "cell_type": "code",
   "execution_count": 53,
   "metadata": {},
   "outputs": [
    {
     "name": "stdout",
     "output_type": "stream",
     "text": [
      "{67, 9, 12, 13, 45, 15, 23, 89}\n"
     ]
    }
   ],
   "source": [
    "data.update([23,45,67,89]) #add multiple elements\n",
    "print(data)"
   ]
  },
  {
   "cell_type": "code",
   "execution_count": 55,
   "metadata": {},
   "outputs": [
    {
     "ename": "KeyError",
     "evalue": "45",
     "output_type": "error",
     "traceback": [
      "\u001b[1;31m---------------------------------------------------------------------------\u001b[0m",
      "\u001b[1;31mKeyError\u001b[0m                                  Traceback (most recent call last)",
      "Cell \u001b[1;32mIn[55], line 2\u001b[0m\n\u001b[0;32m      1\u001b[0m data\u001b[38;5;241m.\u001b[39mdiscard(\u001b[38;5;241m23\u001b[39m) \u001b[38;5;66;03m#removes element\u001b[39;00m\n\u001b[1;32m----> 2\u001b[0m data\u001b[38;5;241m.\u001b[39mremove(\u001b[38;5;241m45\u001b[39m) \u001b[38;5;66;03m#removes element(error if not present)\u001b[39;00m\n\u001b[0;32m      3\u001b[0m \u001b[38;5;28mprint\u001b[39m(data)\n",
      "\u001b[1;31mKeyError\u001b[0m: 45"
     ]
    }
   ],
   "source": [
    "data.discard(23) #removes element\n",
    "data.remove(45) #removes element(error if not present)\n",
    "print(data)"
   ]
  },
  {
   "cell_type": "code",
   "execution_count": 56,
   "metadata": {},
   "outputs": [
    {
     "name": "stdout",
     "output_type": "stream",
     "text": [
      "{9, 12, 13, 15, 89}\n",
      "set()\n"
     ]
    }
   ],
   "source": [
    "data.pop()#removes random element\n",
    "print(data)\n",
    "data.clear() #removes all elements\n",
    "print(data)"
   ]
  },
  {
   "cell_type": "code",
   "execution_count": 57,
   "metadata": {},
   "outputs": [
    {
     "name": "stdout",
     "output_type": "stream",
     "text": [
      "{1, 2, 3, 4, 5, 6, 7, 8}\n",
      "{1, 2, 3, 4, 5, 6, 7, 8}\n"
     ]
    }
   ],
   "source": [
    "# operations\n",
    "a = {1,2,3,4,5}\n",
    "b = {4,5,6,7,8}\n",
    "c = {11,12,13,45,26}\n",
    "print(a.union(b))\n",
    "print(a | b) # | is union operator"
   ]
  },
  {
   "cell_type": "code",
   "execution_count": 58,
   "metadata": {},
   "outputs": [
    {
     "name": "stdout",
     "output_type": "stream",
     "text": [
      "{4, 5}\n",
      "{4, 5}\n"
     ]
    }
   ],
   "source": [
    "print(a.intersection(b))\n",
    "print(a & b) # & is intersection operator"
   ]
  },
  {
   "cell_type": "code",
   "execution_count": 59,
   "metadata": {},
   "outputs": [
    {
     "name": "stdout",
     "output_type": "stream",
     "text": [
      "{1, 2, 3}\n",
      "{1, 2, 3}\n",
      "{8, 6, 7}\n",
      "{8, 6, 7}\n"
     ]
    }
   ],
   "source": [
    "print(a.difference(b))\n",
    "print(a -  b) # - is difference operator\n",
    "print(b - a)\n",
    "print(b.difference(a))"
   ]
  },
  {
   "cell_type": "code",
   "execution_count": 60,
   "metadata": {},
   "outputs": [
    {
     "name": "stdout",
     "output_type": "stream",
     "text": [
      "{1, 2, 3, 6, 7, 8}\n",
      "{1, 2, 3, 6, 7, 8}\n"
     ]
    }
   ],
   "source": [
    "print(a.symmetric_difference(b))\n",
    "print(a ^ b) # ^ is symmetric difference operator"
   ]
  },
  {
   "cell_type": "code",
   "execution_count": 61,
   "metadata": {},
   "outputs": [
    {
     "name": "stdout",
     "output_type": "stream",
     "text": [
      "False\n",
      "False\n",
      "True\n"
     ]
    }
   ],
   "source": [
    "d = {1,2,3}\n",
    "print(a.issuperset(b))\n",
    "print(a.issuperset(c))\n",
    "print(a.issuperset(d))"
   ]
  },
  {
   "cell_type": "code",
   "execution_count": 62,
   "metadata": {},
   "outputs": [
    {
     "name": "stdout",
     "output_type": "stream",
     "text": [
      "False\n",
      "True\n",
      "False\n"
     ]
    }
   ],
   "source": [
    "print(d.issubset(c))\n",
    "print(d.issubset(a))\n",
    "print(d.issubset(b))"
   ]
  },
  {
   "cell_type": "code",
   "execution_count": 63,
   "metadata": {},
   "outputs": [
    {
     "name": "stdout",
     "output_type": "stream",
     "text": [
      "False\n",
      "True\n",
      "False\n"
     ]
    }
   ],
   "source": [
    "print(a.isdisjoint(b))\n",
    "print(a.isdisjoint(c))\n",
    "print(a.isdisjoint(d))"
   ]
  },
  {
   "cell_type": "markdown",
   "metadata": {},
   "source": [
    "# conversion"
   ]
  },
  {
   "cell_type": "code",
   "execution_count": 66,
   "metadata": {},
   "outputs": [
    {
     "name": "stdout",
     "output_type": "stream",
     "text": [
      "[1, 2, 3, 4]\n",
      "{1, 2, 3, 4}\n",
      "(1, 2, 3, 4)\n"
     ]
    }
   ],
   "source": [
    "a = [1,2,3,4]\n",
    "a_set = set(a)\n",
    "a_tuple = tuple(a)\n",
    "print(a)\n",
    "print(a_set)\n",
    "print(a_tuple)"
   ]
  },
  {
   "cell_type": "code",
   "execution_count": 67,
   "metadata": {},
   "outputs": [
    {
     "name": "stdout",
     "output_type": "stream",
     "text": [
      "[1, 2, 3, 4]\n"
     ]
    }
   ],
   "source": [
    "a_list = list(a_set)\n",
    "print(a_list)"
   ]
  },
  {
   "cell_type": "code",
   "execution_count": 68,
   "metadata": {},
   "outputs": [
    {
     "name": "stdout",
     "output_type": "stream",
     "text": [
      "[1, 1, 2, 2, 4, 5, 6, 7, 11, 2, 3, 1, 1, 4, 5]\n",
      "[1, 2, 3, 4, 5, 6, 7, 11]\n"
     ]
    }
   ],
   "source": [
    "x = [1,1,2,2,4,5,6,7,11,2,3,1,1,4,5]\n",
    "print(x)\n",
    "x = list(set(x)) #set -> remove duplicated -> list -> x\n",
    "print(x)"
   ]
  }
 ],
 "metadata": {
  "kernelspec": {
   "display_name": "base",
   "language": "python",
   "name": "python3"
  },
  "language_info": {
   "codemirror_mode": {
    "name": "ipython",
    "version": 3
   },
   "file_extension": ".py",
   "mimetype": "text/x-python",
   "name": "python",
   "nbconvert_exporter": "python",
   "pygments_lexer": "ipython3",
   "version": "3.12.3"
  }
 },
 "nbformat": 4,
 "nbformat_minor": 2
}
