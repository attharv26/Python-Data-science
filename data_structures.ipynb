{
 "cells": [
  {
   "cell_type": "markdown",
   "metadata": {},
   "source": [
    "# DATA STRUCTURES\n",
    "`list []` \n",
    "- indexed \n",
    "- ordered \n",
    "- mutable\n",
    "- hetrogeneous \n",
    "- can have duplicates\n",
    "- list() : to convert anything to list\n",
    "\n",
    "`tuple ()`\n",
    "- indexed \n",
    "- ordered \n",
    "- immutable\n",
    "- hetrogeneous \n",
    "- can have duplicates\n",
    "- tuple() : to convert anything to tuple\n",
    "\n",
    "`set {}`\n",
    "- unindexed \n",
    "- unordered \n",
    "- mutable\n",
    "- hetrogeneous \n",
    "- can have only unique values\n",
    "- set() :to convert anything to set\n",
    "\n",
    "`dictionary {}`\n",
    "- unindexed \n",
    "- ordered \n",
    "- mutable\n",
    "- hetrogeneous \n",
    "- can have duplicates\n",
    "- works in key value pairs\n",
    "- dict() : to convert anything to dictionary"
   ]
  },
  {
   "cell_type": "code",
   "execution_count": 1,
   "metadata": {},
   "outputs": [
    {
     "name": "stdout",
     "output_type": "stream",
     "text": [
      "[]\n",
      "[1, 2, 3, 4]\n",
      "['hello', 'world']\n",
      "['apple', 1, 'banana', 2]\n",
      "[[1, 2, 3], [4, 5, 6, 7], [8, 9, 10]]\n",
      "[['apple', 1], ['banana', 2], ['cherry', 3]]\n"
     ]
    }
   ],
   "source": [
    "#list\n",
    "a = [] #empty list\n",
    "b = [1,2,3,4] #numerical list\n",
    "c = ['hello', 'world'] #string list\n",
    "d = ['apple', 1, 'banana', 2] #mixed list\n",
    "e = [[1,2,3], [4,5,6,7], [8,9,10]] #list of list\n",
    "f = [['apple', 1], ['banana', 2], ['cherry', 3]] #mixed nested list\n",
    "print(a)\n",
    "print(b)\n",
    "print(c)\n",
    "print(d)\n",
    "print(e)\n",
    "print(f)"
   ]
  },
  {
   "cell_type": "code",
   "execution_count": 6,
   "metadata": {},
   "outputs": [
    {
     "name": "stdout",
     "output_type": "stream",
     "text": [
      "['h', 'e', 'l', 'l', 'o']\n",
      "[0, 1, 2, 3, 4, 5, 6, 7, 8, 9]\n",
      "[1, 2, 3, 1, 2, 3, 1, 2, 3, 1, 2, 3, 1, 2, 3]\n",
      "[1, 2, 3, 4, 5]\n"
     ]
    }
   ],
   "source": [
    "print(list('hello')) #will convert hello into a list\n",
    "h = list(range(10))\n",
    "print(h)\n",
    "i = list((1,2,3,4,5))\n",
    "j = [1,2,3] * 5 #duplicated list\n",
    "print(j)\n",
    "print(i)"
   ]
  },
  {
   "cell_type": "code",
   "execution_count": 8,
   "metadata": {},
   "outputs": [
    {
     "name": "stdout",
     "output_type": "stream",
     "text": [
      "['ZNMD', 'YJHD', 'Gangs of Wasseypur', 'sex and the city', '50 shades of grey', '365 days']\n",
      "6\n",
      "first movie ZNMD\n",
      "last movie 365 days\n"
     ]
    }
   ],
   "source": [
    "movies = ['ZNMD', 'YJHD', 'Gangs of Wasseypur','sex and the city','50 shades of grey', '365 days' ]\n",
    "print(movies)\n",
    "print(len(movies))\n",
    "print('first movie', movies[0])\n",
    "print('last movie', movies[-1])"
   ]
  },
  {
   "cell_type": "code",
   "execution_count": 10,
   "metadata": {},
   "outputs": [
    {
     "name": "stdout",
     "output_type": "stream",
     "text": [
      "[1, 2, 3]\n",
      "[8, 9, 10]\n",
      "[3, 4, 5, 6, 7, 8]\n",
      "[10, 9, 8, 7, 6, 5, 4, 3, 2, 1]\n"
     ]
    }
   ],
   "source": [
    "numbers = list(range(1,11))\n",
    "print(numbers[:3])\n",
    "print(numbers[-3:])\n",
    "print(numbers[2:-2])\n",
    "print(numbers[::-1])"
   ]
  },
  {
   "cell_type": "markdown",
   "metadata": {},
   "source": [
    "## List methods (11)\n",
    "- `adding/updating`\n",
    "  - append()\n",
    "  - extend()\n",
    "  - insert()\n",
    "- `removing/deletion`\n",
    "  - remove()\n",
    "  - pop()\n",
    "  - clear()\n",
    "- `utility methods`\n",
    "  - sort()\n",
    "  - reverse()\n",
    "  - count()\n",
    "  - copy()"
   ]
  },
  {
   "cell_type": "code",
   "execution_count": 20,
   "metadata": {},
   "outputs": [
    {
     "name": "stdout",
     "output_type": "stream",
     "text": [
      "['a', 'b', 'c', 'd', 'e']\n",
      "['f', 'g', 'h']\n"
     ]
    }
   ],
   "source": [
    "fav_books = []\n",
    "hated_books = []\n",
    "for i in range(5):\n",
    "    fav_books.append(input('enter your fav book'))\n",
    "for i in range(3):\n",
    "    hated_books.append(input('enter your hated book'))\n",
    "print(fav_books)\n",
    "print(hated_books)"
   ]
  },
  {
   "cell_type": "code",
   "execution_count": 21,
   "metadata": {},
   "outputs": [
    {
     "name": "stdout",
     "output_type": "stream",
     "text": [
      "['a', 'b', 'c', 'd', 'e', 'f', 'g', 'h']\n"
     ]
    }
   ],
   "source": [
    "# merge two list and create a new list\n",
    "books = fav_books + hated_books\n",
    "print(books)"
   ]
  },
  {
   "cell_type": "code",
   "execution_count": 23,
   "metadata": {},
   "outputs": [
    {
     "name": "stdout",
     "output_type": "stream",
     "text": [
      "['a', 'b', 'c', 'd', 'e', 'f', 'g', 'h', 'legion', 'chacha choudhry', 'treasure trove', 'legion', 'chacha choudhry', 'treasure trove']\n",
      "total books:  14\n"
     ]
    }
   ],
   "source": [
    "# adding a list to existing list\n",
    "books.extend(['legion', 'chacha choudhry', 'treasure trove'])\n",
    "print(books)\n",
    "print('total books: ', len(books))"
   ]
  },
  {
   "cell_type": "code",
   "execution_count": 25,
   "metadata": {},
   "outputs": [
    {
     "data": {
      "text/plain": [
       "['a',\n",
       " 'b',\n",
       " 'abcd',\n",
       " 'abcd',\n",
       " 'c',\n",
       " 'd',\n",
       " 'e',\n",
       " 'f',\n",
       " 'g',\n",
       " 'h',\n",
       " 'legion',\n",
       " 'chacha choudhry',\n",
       " 'treasure trove',\n",
       " 'legion',\n",
       " 'chacha choudhry',\n",
       " 'treasure trove']"
      ]
     },
     "execution_count": 25,
     "metadata": {},
     "output_type": "execute_result"
    }
   ],
   "source": [
    "books.insert(2, 'abcd')"
   ]
  },
  {
   "cell_type": "code",
   "execution_count": 28,
   "metadata": {},
   "outputs": [
    {
     "ename": "ValueError",
     "evalue": "list.remove(x): x not in list",
     "output_type": "error",
     "traceback": [
      "\u001b[1;31m---------------------------------------------------------------------------\u001b[0m",
      "\u001b[1;31mValueError\u001b[0m                                Traceback (most recent call last)",
      "Cell \u001b[1;32mIn[28], line 2\u001b[0m\n\u001b[0;32m      1\u001b[0m \u001b[38;5;66;03m# remove\u001b[39;00m\n\u001b[1;32m----> 2\u001b[0m books\u001b[38;5;241m.\u001b[39mremove(\u001b[38;5;124m'\u001b[39m\u001b[38;5;124mchacha choudhry\u001b[39m\u001b[38;5;124m'\u001b[39m)\n",
      "\u001b[1;31mValueError\u001b[0m: list.remove(x): x not in list"
     ]
    }
   ],
   "source": [
    "# remove\n",
    "books.remove('chacha choudhry') #remove by value"
   ]
  },
  {
   "cell_type": "code",
   "execution_count": 32,
   "metadata": {},
   "outputs": [
    {
     "data": {
      "text/plain": [
       "['a', 'b', 'abcd', 'abcd', 'c', 'd', 'legion', 'treasure trove']"
      ]
     },
     "execution_count": 32,
     "metadata": {},
     "output_type": "execute_result"
    }
   ],
   "source": [
    "books.pop(6) #remove by index\n",
    "books.pop() #removes last index\n",
    "books,clear() # remove all elements\n"
   ]
  },
  {
   "cell_type": "markdown",
   "metadata": {},
   "source": [
    "### WAP to create an empty list and, then fill the list with 10 prime numbers"
   ]
  }
 ],
 "metadata": {
  "kernelspec": {
   "display_name": "base",
   "language": "python",
   "name": "python3"
  },
  "language_info": {
   "codemirror_mode": {
    "name": "ipython",
    "version": 3
   },
   "file_extension": ".py",
   "mimetype": "text/x-python",
   "name": "python",
   "nbconvert_exporter": "python",
   "pygments_lexer": "ipython3",
   "version": "3.12.3"
  }
 },
 "nbformat": 4,
 "nbformat_minor": 2
}
