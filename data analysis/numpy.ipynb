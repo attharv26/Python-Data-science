{
 "cells": [
  {
   "cell_type": "code",
   "execution_count": 2,
   "metadata": {},
   "outputs": [],
   "source": [
    "import numpy as np"
   ]
  },
  {
   "cell_type": "code",
   "execution_count": 3,
   "metadata": {},
   "outputs": [
    {
     "name": "stdout",
     "output_type": "stream",
     "text": [
      "[1 2 3 4 5] [5 6 7 8 9]\n",
      "<class 'numpy.ndarray'>\n",
      "<class 'numpy.ndarray'>\n"
     ]
    }
   ],
   "source": [
    "# creating a 1-D numpy array\n",
    "a = np.array([1,2,3,4,5])\n",
    "b = np.array([5,6,7,8,9])\n",
    "print(a , b)\n",
    "print(type(a))\n",
    "print(type(b))\n"
   ]
  },
  {
   "cell_type": "code",
   "execution_count": 4,
   "metadata": {},
   "outputs": [
    {
     "name": "stdout",
     "output_type": "stream",
     "text": [
      "[ 6  8 10 12 14]\n",
      "[ 5 12 21 32 45]\n",
      "[-4 -4 -4 -4 -4]\n"
     ]
    }
   ],
   "source": [
    "print(a + b)\n",
    "print(a * b)\n",
    "print(a - b)"
   ]
  },
  {
   "cell_type": "markdown",
   "metadata": {},
   "source": [
    "### to create a multidimension array -> np.array([ [],[],[] ])"
   ]
  },
  {
   "cell_type": "code",
   "execution_count": 5,
   "metadata": {},
   "outputs": [
    {
     "name": "stdout",
     "output_type": "stream",
     "text": [
      "[[1 2]\n",
      " [2 3]]\n"
     ]
    }
   ],
   "source": [
    "n2 = np.array([[1,2], [2,3]])\n",
    "print(n2)"
   ]
  },
  {
   "cell_type": "code",
   "execution_count": 6,
   "metadata": {},
   "outputs": [
    {
     "name": "stdout",
     "output_type": "stream",
     "text": [
      "[[1 2 3]\n",
      " [4 5 6]]\n"
     ]
    }
   ],
   "source": [
    "n3 = np.array([[1,2,3], [4,5,6]])\n",
    "print(n3)"
   ]
  },
  {
   "cell_type": "code",
   "execution_count": 7,
   "metadata": {},
   "outputs": [
    {
     "name": "stdout",
     "output_type": "stream",
     "text": [
      "(2, 2)\n",
      "2\n",
      "int32\n"
     ]
    }
   ],
   "source": [
    "print(n2.shape) # no of rows and columns\n",
    "print(n2.ndim) #no. of dimensions\n",
    "print(n2.dtype) # data type of elements"
   ]
  },
  {
   "cell_type": "code",
   "execution_count": 8,
   "metadata": {},
   "outputs": [
    {
     "data": {
      "text/plain": [
       "array([ 1,  6, 11, 16, 21, 26, 31, 36, 41, 46, 51, 56, 61, 66, 71, 76, 81,\n",
       "       86, 91, 96])"
      ]
     },
     "execution_count": 8,
     "metadata": {},
     "output_type": "execute_result"
    }
   ],
   "source": [
    "np.arange(1,100, 5) #same like range() but for 1D arrays"
   ]
  },
  {
   "cell_type": "code",
   "execution_count": 9,
   "metadata": {},
   "outputs": [
    {
     "data": {
      "text/plain": [
       "array([[8, 6, 2],\n",
       "       [6, 1, 5]])"
      ]
     },
     "execution_count": 9,
     "metadata": {},
     "output_type": "execute_result"
    }
   ],
   "source": [
    "np.random.randint(1,10,size = (2 ,3)) # for multi-dimension array"
   ]
  },
  {
   "cell_type": "code",
   "execution_count": 10,
   "metadata": {},
   "outputs": [
    {
     "data": {
      "text/plain": [
       "12"
      ]
     },
     "execution_count": 10,
     "metadata": {},
     "output_type": "execute_result"
    }
   ],
   "source": [
    "import os\n",
    "os.cpu_count()"
   ]
  },
  {
   "cell_type": "code",
   "execution_count": 11,
   "metadata": {},
   "outputs": [
    {
     "name": "stdout",
     "output_type": "stream",
     "text": [
      "[[164 336 529]\n",
      " [125 340 364]\n",
      " [ 71 189 297]]\n"
     ]
    }
   ],
   "source": [
    "x = np.array([[14,6,17],[4,7,17],[7,7,6]])\n",
    "y = np.array([[4,1,18],[1,14,15],[6,14,11]])\n",
    "print(x @ y) #matrix multiplication (or np.dot(x,y))"
   ]
  },
  {
   "cell_type": "code",
   "execution_count": 12,
   "metadata": {},
   "outputs": [
    {
     "name": "stdout",
     "output_type": "stream",
     "text": [
      "199840032\n"
     ]
    }
   ],
   "source": [
    "print(x.prod()) # product of all elements in the array"
   ]
  },
  {
   "cell_type": "code",
   "execution_count": 13,
   "metadata": {},
   "outputs": [
    {
     "data": {
      "text/plain": [
       "9.444444444444445"
      ]
     },
     "execution_count": 13,
     "metadata": {},
     "output_type": "execute_result"
    }
   ],
   "source": [
    "x.mean() #mean of all elements"
   ]
  },
  {
   "cell_type": "code",
   "execution_count": 14,
   "metadata": {},
   "outputs": [
    {
     "data": {
      "text/plain": [
       "array([ 8.33333333,  6.66666667, 13.33333333])"
      ]
     },
     "execution_count": 14,
     "metadata": {},
     "output_type": "execute_result"
    }
   ],
   "source": [
    "x.mean(axis=0) # mean of each column"
   ]
  },
  {
   "cell_type": "code",
   "execution_count": 15,
   "metadata": {},
   "outputs": [
    {
     "data": {
      "text/plain": [
       "array([12.33333333,  9.33333333,  6.66666667])"
      ]
     },
     "execution_count": 15,
     "metadata": {},
     "output_type": "execute_result"
    }
   ],
   "source": [
    "x.mean(axis=1) #mean of each row"
   ]
  },
  {
   "cell_type": "code",
   "execution_count": 16,
   "metadata": {},
   "outputs": [
    {
     "name": "stdout",
     "output_type": "stream",
     "text": [
      "85\n",
      "4.786813161897337\n",
      "22.913580246913583\n"
     ]
    }
   ],
   "source": [
    "print(x.sum())\n",
    "print(x.std()) #standard deviation\n",
    "print(x.var()) #variance"
   ]
  },
  {
   "cell_type": "code",
   "execution_count": 17,
   "metadata": {},
   "outputs": [
    {
     "name": "stdout",
     "output_type": "stream",
     "text": [
      "5.0\n",
      "3.0\n",
      "7.0\n"
     ]
    }
   ],
   "source": [
    "a = np.array([1,2,3,4,5,6,7,8, 9])\n",
    "print(np.percentile(a , 50)) #median\n",
    "print(np.percentile(a , 25)) #1st quartile\n",
    "print(np.percentile(a , 75)) #3rd quartile"
   ]
  },
  {
   "cell_type": "code",
   "execution_count": 18,
   "metadata": {},
   "outputs": [
    {
     "name": "stdout",
     "output_type": "stream",
     "text": [
      "[[31 51 88 52]\n",
      " [89 28 99 72]\n",
      " [24 70 65 47]\n",
      " [92 74 71 11]]\n",
      "2X8\n",
      "[[31 51 88 52 89 28 99 72]\n",
      " [24 70 65 47 92 74 71 11]]\n"
     ]
    }
   ],
   "source": [
    "# reshaping the array\n",
    "a = np.random.randint(11, 100, (4, 4))\n",
    "print(a)\n",
    "print('2X8')\n",
    "print(a.reshape(2,8))"
   ]
  },
  {
   "cell_type": "code",
   "execution_count": null,
   "metadata": {},
   "outputs": [],
   "source": []
  },
  {
   "cell_type": "code",
   "execution_count": null,
   "metadata": {},
   "outputs": [],
   "source": []
  },
  {
   "cell_type": "markdown",
   "metadata": {},
   "source": [
    "# dictionary\n",
    "- creating\n",
    "- traversal\n",
    "- methods\n",
    "- sorting\n",
    "- comprehension "
   ]
  },
  {
   "cell_type": "markdown",
   "metadata": {},
   "source": [
    "syntax:\n",
    "\n",
    "\n",
    "{\n",
    "\n",
    "    key:value,\n",
    "\n",
    "    key:value,\n",
    "    \n",
    "    key:value,\n",
    "    \n",
    "}"
   ]
  },
  {
   "cell_type": "code",
   "execution_count": 19,
   "metadata": {},
   "outputs": [
    {
     "name": "stdout",
     "output_type": "stream",
     "text": [
      "{'apple': 'red', 'banana': 'yellow', 'cherry': 'red', 'orange': 'orange'}\n"
     ]
    }
   ],
   "source": [
    "fruits = {\n",
    "    'apple': 'red',\n",
    "    'banana': 'yellow',\n",
    "    'cherry': 'red',\n",
    "    'orange' : 'orange'\n",
    "}\n",
    "print(fruits)"
   ]
  },
  {
   "cell_type": "code",
   "execution_count": 20,
   "metadata": {},
   "outputs": [
    {
     "name": "stdout",
     "output_type": "stream",
     "text": [
      "{'lucknow': [25, 30, 35], 'delhi': [30, 35, 40], 'chennai': [24, 23, 22]}\n"
     ]
    }
   ],
   "source": [
    "temp = {\n",
    "    'lucknow': [25, 30, 35],\n",
    "    'delhi': [30, 35, 40],\n",
    "    'chennai': [24, 23, 22]\n",
    "}\n",
    "print(temp)"
   ]
  },
  {
   "cell_type": "code",
   "execution_count": 21,
   "metadata": {},
   "outputs": [
    {
     "name": "stdout",
     "output_type": "stream",
     "text": [
      "{'name': 'raju', 'age': 25, 'marks': [56, 73, 67]}\n"
     ]
    }
   ],
   "source": [
    "info = dict(name = 'raju', age=25, marks=[56, 73, 67])\n",
    "print(info)"
   ]
  },
  {
   "cell_type": "code",
   "execution_count": 22,
   "metadata": {},
   "outputs": [
    {
     "name": "stdout",
     "output_type": "stream",
     "text": [
      "{'alex': {'english': 25, 'maths': 90, 'science': 78}, 'rahul': {'english': 56, 'maths': 76, 'science': 45}}\n"
     ]
    }
   ],
   "source": [
    "# nested dictionary\n",
    "report =dict(\n",
    "    alex = dict(english= 25, maths= 90, science= 78),\n",
    "    rahul = dict(english= 56, maths= 76, science= 45)\n",
    ")\n",
    "print(report)"
   ]
  },
  {
   "cell_type": "code",
   "execution_count": 23,
   "metadata": {},
   "outputs": [
    {
     "name": "stdout",
     "output_type": "stream",
     "text": [
      "{'alex': {'english': 25, 'maths': 90, 'science': 78},\n",
      " 'rahul': {'english': 56, 'maths': 76, 'science': 45}}\n"
     ]
    }
   ],
   "source": [
    "from pprint import pp #pretty print\n",
    "pp(report)"
   ]
  },
  {
   "cell_type": "code",
   "execution_count": 24,
   "metadata": {},
   "outputs": [
    {
     "data": {
      "text/plain": [
       "'red'"
      ]
     },
     "execution_count": 24,
     "metadata": {},
     "output_type": "execute_result"
    }
   ],
   "source": [
    "fruits['cherry']"
   ]
  },
  {
   "cell_type": "code",
   "execution_count": 25,
   "metadata": {},
   "outputs": [
    {
     "name": "stdout",
     "output_type": "stream",
     "text": [
      "{'english': 25, 'maths': 90, 'science': 78}\n",
      "90\n"
     ]
    }
   ],
   "source": [
    "print(report['alex'])\n",
    "print(report['alex']['maths'])"
   ]
  },
  {
   "cell_type": "code",
   "execution_count": 26,
   "metadata": {},
   "outputs": [
    {
     "name": "stdout",
     "output_type": "stream",
     "text": [
      "30\n",
      "40\n",
      "avg temp od delhi is 35.0\n"
     ]
    }
   ],
   "source": [
    "print(temp['delhi'][0])\n",
    "print(temp['delhi'][-1])\n",
    "print('avg temp od delhi is', sum(temp['delhi'])/len(temp['delhi']))"
   ]
  },
  {
   "cell_type": "code",
   "execution_count": 27,
   "metadata": {},
   "outputs": [
    {
     "name": "stdout",
     "output_type": "stream",
     "text": [
      "dict_keys(['apple', 'banana', 'cherry', 'orange'])\n"
     ]
    }
   ],
   "source": [
    "# all keys of a dictionary\n",
    "print(fruits.keys()) #not a list but a special object ,can be type casted into a list"
   ]
  },
  {
   "cell_type": "code",
   "execution_count": 28,
   "metadata": {},
   "outputs": [
    {
     "name": "stdout",
     "output_type": "stream",
     "text": [
      "['apple', 'banana', 'cherry', 'orange']\n"
     ]
    }
   ],
   "source": [
    "fruit_names= list(fruits.keys())\n",
    "print(fruit_names)"
   ]
  },
  {
   "cell_type": "code",
   "execution_count": 29,
   "metadata": {},
   "outputs": [
    {
     "name": "stdout",
     "output_type": "stream",
     "text": [
      "dict_values(['red', 'yellow', 'red', 'orange'])\n"
     ]
    }
   ],
   "source": [
    "# all values of dictionary\n",
    "print(fruits.values())"
   ]
  },
  {
   "cell_type": "code",
   "execution_count": 30,
   "metadata": {},
   "outputs": [
    {
     "name": "stdout",
     "output_type": "stream",
     "text": [
      "apple\n",
      "banana\n",
      "cherry\n",
      "orange\n"
     ]
    }
   ],
   "source": [
    "# traversal through keys\n",
    "for item in fruits:\n",
    "    print(item)"
   ]
  },
  {
   "cell_type": "code",
   "execution_count": 31,
   "metadata": {},
   "outputs": [
    {
     "name": "stdout",
     "output_type": "stream",
     "text": [
      "red\n",
      "yellow\n",
      "red\n",
      "orange\n"
     ]
    }
   ],
   "source": [
    "for key in fruits:\n",
    "    print(fruits[key])"
   ]
  },
  {
   "cell_type": "code",
   "execution_count": 32,
   "metadata": {},
   "outputs": [
    {
     "name": "stdout",
     "output_type": "stream",
     "text": [
      "apple red\n",
      "banana yellow\n",
      "cherry red\n",
      "orange orange\n"
     ]
    }
   ],
   "source": [
    "# traversal through .items() method\n",
    "for k,v in fruits.items():\n",
    "    print(k ,v)"
   ]
  },
  {
   "cell_type": "code",
   "execution_count": 33,
   "metadata": {},
   "outputs": [
    {
     "name": "stdout",
     "output_type": "stream",
     "text": [
      "red\n",
      "yellow\n",
      "red\n",
      "orange\n"
     ]
    }
   ],
   "source": [
    "# traverse only values\n",
    "for i in fruits.values():\n",
    "    print(i)"
   ]
  },
  {
   "cell_type": "code",
   "execution_count": 34,
   "metadata": {},
   "outputs": [
    {
     "name": "stdout",
     "output_type": "stream",
     "text": [
      "alex\n",
      "193\n",
      "rahul\n",
      "177\n"
     ]
    }
   ],
   "source": [
    "# total marks of all students\n",
    "for student ,marks in report.items():\n",
    "    print(student)\n",
    "    print(sum(marks.values()))"
   ]
  },
  {
   "cell_type": "code",
   "execution_count": 35,
   "metadata": {},
   "outputs": [
    {
     "name": "stdout",
     "output_type": "stream",
     "text": [
      "{'apple': 'red',\n",
      " 'banana': 'yellow',\n",
      " 'cherry': 'red',\n",
      " 'orange': 'orange',\n",
      " 'mango': 'yellow'}\n"
     ]
    }
   ],
   "source": [
    "# there is no method to add a single value to a dictionary (just a simple assignment)\n",
    "fruits['mango'] = 'yellow' # adding a new value\n",
    "pp(fruits)"
   ]
  },
  {
   "cell_type": "code",
   "execution_count": 36,
   "metadata": {},
   "outputs": [
    {
     "name": "stdout",
     "output_type": "stream",
     "text": [
      "{'apple': 'red',\n",
      " 'banana': 'yellow',\n",
      " 'cherry': 'red',\n",
      " 'orange': 'orange',\n",
      " 'mango': 'yellow',\n",
      " 'date': 'brown',\n",
      " 'almond': 'brown',\n",
      " 'cashew': 'white'}\n"
     ]
    }
   ],
   "source": [
    "# adding small dictionary to a big dictionary\n",
    "dry_fruits = {'date':'brown', 'almond': 'brown', 'cashew': 'white'}\n",
    "fruits.update(dry_fruits) # merges dry_fruits to fruits dictionary\n",
    "pp(fruits)"
   ]
  },
  {
   "cell_type": "code",
   "execution_count": 37,
   "metadata": {},
   "outputs": [
    {
     "name": "stdout",
     "output_type": "stream",
     "text": [
      "None\n",
      "brown\n",
      "no value found\n",
      "404\n"
     ]
    }
   ],
   "source": [
    "# get method -> error free way to access data\n",
    "#fruits['raisin'] #error: key not present\n",
    "print(fruits.get('raisin')) #return none when key not present\n",
    "print(fruits.get('date'))\n",
    "print(fruits.get('guava', 'no value found')) #default value : specific value or message to be returned if key not present\n",
    "print(fruits.get('guava', 404)) #default value : specific value or message to be returned if key not present"
   ]
  },
  {
   "cell_type": "code",
   "execution_count": 38,
   "metadata": {},
   "outputs": [
    {
     "name": "stdout",
     "output_type": "stream",
     "text": [
      "{'apple': 'red',\n",
      " 'cherry': 'red',\n",
      " 'orange': 'orange',\n",
      " 'mango': 'yellow',\n",
      " 'date': 'brown',\n",
      " 'almond': 'brown',\n",
      " 'cashew': 'white'}\n"
     ]
    }
   ],
   "source": [
    "# remove\n",
    "fruits.pop('banana')  #remove by key => returns the value\n",
    "pp(fruits)"
   ]
  },
  {
   "cell_type": "code",
   "execution_count": 39,
   "metadata": {},
   "outputs": [
    {
     "name": "stdout",
     "output_type": "stream",
     "text": [
      "\u001b[1;31mSignature:\u001b[0m \u001b[0msorted\u001b[0m\u001b[1;33m(\u001b[0m\u001b[0miterable\u001b[0m\u001b[1;33m,\u001b[0m \u001b[1;33m/\u001b[0m\u001b[1;33m,\u001b[0m \u001b[1;33m*\u001b[0m\u001b[1;33m,\u001b[0m \u001b[0mkey\u001b[0m\u001b[1;33m=\u001b[0m\u001b[1;32mNone\u001b[0m\u001b[1;33m,\u001b[0m \u001b[0mreverse\u001b[0m\u001b[1;33m=\u001b[0m\u001b[1;32mFalse\u001b[0m\u001b[1;33m)\u001b[0m\u001b[1;33m\u001b[0m\u001b[1;33m\u001b[0m\u001b[0m\n",
      "\u001b[1;31mDocstring:\u001b[0m\n",
      "Return a new list containing all items from the iterable in ascending order.\n",
      "\n",
      "A custom key function can be supplied to customize the sort order, and the\n",
      "reverse flag can be set to request the result in descending order.\n",
      "\u001b[1;31mType:\u001b[0m      builtin_function_or_method"
     ]
    }
   ],
   "source": [
    "sorted?"
   ]
  },
  {
   "cell_type": "code",
   "execution_count": 40,
   "metadata": {},
   "outputs": [
    {
     "data": {
      "text/plain": [
       "['almond', 'apple', 'cashew', 'cherry', 'date', 'mango', 'orange']"
      ]
     },
     "execution_count": 40,
     "metadata": {},
     "output_type": "execute_result"
    }
   ],
   "source": [
    "sorted(fruits) #sorts the keys"
   ]
  },
  {
   "cell_type": "code",
   "execution_count": 41,
   "metadata": {},
   "outputs": [
    {
     "data": {
      "text/plain": [
       "[('almond', 'brown'),\n",
       " ('apple', 'red'),\n",
       " ('cashew', 'white'),\n",
       " ('cherry', 'red'),\n",
       " ('date', 'brown'),\n",
       " ('mango', 'yellow'),\n",
       " ('orange', 'orange')]"
      ]
     },
     "execution_count": 41,
     "metadata": {},
     "output_type": "execute_result"
    }
   ],
   "source": [
    "#sorting on keys\n",
    "sorted(fruits.items())"
   ]
  },
  {
   "cell_type": "code",
   "execution_count": 42,
   "metadata": {},
   "outputs": [
    {
     "name": "stdout",
     "output_type": "stream",
     "text": [
      "[('date', 'brown'),\n",
      " ('almond', 'brown'),\n",
      " ('orange', 'orange'),\n",
      " ('apple', 'red'),\n",
      " ('cherry', 'red'),\n",
      " ('cashew', 'white'),\n",
      " ('mango', 'yellow')]\n"
     ]
    }
   ],
   "source": [
    "pp(sorted(fruits.items(), key= lambda i:i[1]))"
   ]
  },
  {
   "cell_type": "code",
   "execution_count": 43,
   "metadata": {},
   "outputs": [
    {
     "name": "stdout",
     "output_type": "stream",
     "text": [
      "[('mango', 'yellow'),\n",
      " ('cashew', 'white'),\n",
      " ('apple', 'red'),\n",
      " ('cherry', 'red'),\n",
      " ('orange', 'orange'),\n",
      " ('date', 'brown'),\n",
      " ('almond', 'brown')]\n"
     ]
    }
   ],
   "source": [
    "pp(sorted(fruits.items(), key= lambda i:i[1], reverse =True))"
   ]
  },
  {
   "cell_type": "code",
   "execution_count": 44,
   "metadata": {},
   "outputs": [
    {
     "name": "stdout",
     "output_type": "stream",
     "text": [
      "{'apple': 'RED',\n",
      " 'cherry': 'RED',\n",
      " 'orange': 'ORANGE',\n",
      " 'mango': 'YELLOW',\n",
      " 'date': 'BROWN',\n",
      " 'almond': 'BROWN',\n",
      " 'cashew': 'WHITE'}\n"
     ]
    }
   ],
   "source": [
    "#changing keys, value to upper case\n",
    "clean_fruits= {}\n",
    "for k,v in fruits.items():\n",
    "    clean_fruits[k.lower()]= v.upper()\n",
    "pp(clean_fruits)"
   ]
  },
  {
   "cell_type": "code",
   "execution_count": 45,
   "metadata": {},
   "outputs": [
    {
     "name": "stdout",
     "output_type": "stream",
     "text": [
      "{'apple': 'RED',\n",
      " 'cherry': 'RED',\n",
      " 'orange': 'ORANGE',\n",
      " 'mango': 'YELLOW',\n",
      " 'date': 'BROWN',\n",
      " 'almond': 'BROWN',\n",
      " 'cashew': 'WHITE'}\n"
     ]
    }
   ],
   "source": [
    "# the comprehension way\n",
    "clean_fruits= {k.lower(): v.upper() for k,v in fruits.items()}\n",
    "pp(clean_fruits)"
   ]
  },
  {
   "cell_type": "code",
   "execution_count": 46,
   "metadata": {},
   "outputs": [
    {
     "name": "stdout",
     "output_type": "stream",
     "text": [
      "{'lucknow': 30.0, 'delhi': 35.0, 'chennai': 23.0}\n"
     ]
    }
   ],
   "source": [
    "avg_temp = {city: sum(data)/len(data) for city, data in temp.items()}\n",
    "pp(avg_temp)"
   ]
  },
  {
   "cell_type": "markdown",
   "metadata": {},
   "source": [
    "## slicing in 2-D matrix\n",
    "```\n",
    "var[start:stop:step]  #1-D\n",
    "var[rstart:rstop:rstep, cstart:cstop:cstep] #2-D\n",
    "```\n"
   ]
  },
  {
   "cell_type": "code",
   "execution_count": 47,
   "metadata": {},
   "outputs": [
    {
     "name": "stdout",
     "output_type": "stream",
     "text": [
      "[[ 5 17 13  4 10]\n",
      " [13  4  2  4 19]\n",
      " [ 1  8  8  6  6]\n",
      " [16 19 13  7  4]\n",
      " [10  9  4 15 14]]\n"
     ]
    }
   ],
   "source": [
    "x = np.random.randint(1,20, (5,5)) #5X5 matrix\n",
    "print(x)"
   ]
  },
  {
   "cell_type": "code",
   "execution_count": 50,
   "metadata": {},
   "outputs": [
    {
     "name": "stdout",
     "output_type": "stream",
     "text": [
      "[ 5 17 13  4 10]\n",
      "17\n",
      "[10  9  4 15 14]\n",
      "[[ 5 17 13  4 10]\n",
      " [13  4  2  4 19]\n",
      " [ 1  8  8  6  6]]\n",
      "[[16 19 13  7  4]\n",
      " [10  9  4 15 14]]\n"
     ]
    }
   ],
   "source": [
    "# first (index 0)\n",
    "print(x[0])\n",
    "# first row second column\n",
    "print(x[0,1])\n",
    "# last row\n",
    "print(x[-1])\n",
    "# first 3 rows\n",
    "print(x[:3])\n",
    "# all rows after 3rd\n",
    "print(x[3:])"
   ]
  },
  {
   "cell_type": "code",
   "execution_count": 55,
   "metadata": {},
   "outputs": [
    {
     "name": "stdout",
     "output_type": "stream",
     "text": [
      "[ 5 13  1 16 10]\n",
      "[10 19  6  4 14]\n",
      "[[ 5 17]\n",
      " [13  4]\n",
      " [ 1  8]\n",
      " [16 19]\n",
      " [10  9]]\n"
     ]
    }
   ],
   "source": [
    "# first column\n",
    "print(x[:,0])   # ':' -> all rows\n",
    "print(x[:,-1])  #last column\n",
    "print(x[:,:2]) #first two columns\n"
   ]
  },
  {
   "cell_type": "code",
   "execution_count": 57,
   "metadata": {},
   "outputs": [
    {
     "name": "stdout",
     "output_type": "stream",
     "text": [
      "[[ 5 17 10]\n",
      " [13  4 19]\n",
      " [ 1  8  6]\n",
      " [16 19  4]\n",
      " [10  9 14]]\n"
     ]
    }
   ],
   "source": [
    "#selective column index (1st, 2nd and last column)\n",
    "print(x[:, [0,1,-1]])"
   ]
  },
  {
   "cell_type": "markdown",
   "metadata": {},
   "source": [
    "boolean filtering\n",
    "\n",
    "extract data from matrix based on condition"
   ]
  },
  {
   "cell_type": "code",
   "execution_count": 60,
   "metadata": {},
   "outputs": [
    {
     "name": "stdout",
     "output_type": "stream",
     "text": [
      "[[False  True  True False  True]\n",
      " [ True False False False  True]\n",
      " [False  True  True  True  True]\n",
      " [ True  True  True  True False]\n",
      " [ True  True False  True  True]]\n"
     ]
    }
   ],
   "source": [
    "print(x>5) #boolean matrix"
   ]
  },
  {
   "cell_type": "code",
   "execution_count": 67,
   "metadata": {},
   "outputs": [
    {
     "name": "stdout",
     "output_type": "stream",
     "text": [
      "(14,)\n",
      "[[5 4]\n",
      " [4 2]\n",
      " [4 1]\n",
      " [8 8]\n",
      " [6 6]\n",
      " [7 4]\n",
      " [9 4]]\n"
     ]
    }
   ],
   "source": [
    "y = x[x<10] #only values greater than 5 will be filtered\n",
    "print(y.shape)\n",
    "z = y.reshape(7,2) #reshaping\n",
    "print(z)"
   ]
  },
  {
   "cell_type": "markdown",
   "metadata": {},
   "source": [
    "visualising numerical data"
   ]
  },
  {
   "cell_type": "code",
   "execution_count": 71,
   "metadata": {},
   "outputs": [
    {
     "name": "stdout",
     "output_type": "stream",
     "text": [
      "Name: matplotlib\n",
      "Version: 3.9.0\n",
      "Summary: Python plotting package\n",
      "Home-page: \n",
      "Author: John D. Hunter, Michael Droettboom\n",
      "Author-email: Unknown <matplotlib-users@python.org>\n",
      "License: License agreement for matplotlib versions 1.3.0 and later\n",
      "=========================================================\n",
      "\n",
      "1. This LICENSE AGREEMENT is between the Matplotlib Development Team\n",
      "(\"MDT\"), and the Individual or Organization (\"Licensee\") accessing and\n",
      "otherwise using matplotlib software in source or binary form and its\n",
      "associated documentation.\n",
      "\n",
      "2. Subject to the terms and conditions of this License Agreement, MDT\n",
      "hereby grants Licensee a nonexclusive, royalty-free, world-wide license\n",
      "to reproduce, analyze, test, perform and/or display publicly, prepare\n",
      "derivative works, distribute, and otherwise use matplotlib\n",
      "alone or in any derivative version, provided, however, that MDT's\n",
      "License Agreement and MDT's notice of copyright, i.e., \"Copyright (c)\n",
      "2012- Matplotlib Development Team; All Rights Reserved\" are retained in\n",
      "matplotlib  alone or in any derivative version prepared by\n",
      "Licensee.\n",
      "\n",
      "3. In the event Licensee prepares a derivative work that is based on or\n",
      "incorporates matplotlib or any part thereof, and wants to\n",
      "make the derivative work available to others as provided herein, then\n",
      "Licensee hereby agrees to include in any such work a brief summary of\n",
      "the changes made to matplotlib .\n",
      "\n",
      "4. MDT is making matplotlib available to Licensee on an \"AS\n",
      "IS\" basis.  MDT MAKES NO REPRESENTATIONS OR WARRANTIES, EXPRESS OR\n",
      "IMPLIED.  BY WAY OF EXAMPLE, BUT NOT LIMITATION, MDT MAKES NO AND\n",
      "DISCLAIMS ANY REPRESENTATION OR WARRANTY OF MERCHANTABILITY OR FITNESS\n",
      "FOR ANY PARTICULAR PURPOSE OR THAT THE USE OF MATPLOTLIB\n",
      "WILL NOT INFRINGE ANY THIRD PARTY RIGHTS.\n",
      "\n",
      "5. MDT SHALL NOT BE LIABLE TO LICENSEE OR ANY OTHER USERS OF MATPLOTLIB\n",
      " FOR ANY INCIDENTAL, SPECIAL, OR CONSEQUENTIAL DAMAGES OR\n",
      "LOSS AS A RESULT OF MODIFYING, DISTRIBUTING, OR OTHERWISE USING\n",
      "MATPLOTLIB , OR ANY DERIVATIVE THEREOF, EVEN IF ADVISED OF\n",
      "THE POSSIBILITY THEREOF.\n",
      "\n",
      "6. This License Agreement will automatically terminate upon a material\n",
      "breach of its terms and conditions.\n",
      "\n",
      "7. Nothing in this License Agreement shall be deemed to create any\n",
      "relationship of agency, partnership, or joint venture between MDT and\n",
      "Licensee.  This License Agreement does not grant permission to use MDT\n",
      "trademarks or trade name in a trademark sense to endorse or promote\n",
      "products or services of Licensee, or any third party.\n",
      "\n",
      "8. By copying, installing or otherwise using matplotlib ,\n",
      "Licensee agrees to be bound by the terms and conditions of this License\n",
      "Agreement.\n",
      "\n",
      "License agreement for matplotlib versions prior to 1.3.0\n",
      "========================================================\n",
      "\n",
      "1. This LICENSE AGREEMENT is between John D. Hunter (\"JDH\"), and the\n",
      "Individual or Organization (\"Licensee\") accessing and otherwise using\n",
      "matplotlib software in source or binary form and its associated\n",
      "documentation.\n",
      "\n",
      "2. Subject to the terms and conditions of this License Agreement, JDH\n",
      "hereby grants Licensee a nonexclusive, royalty-free, world-wide license\n",
      "to reproduce, analyze, test, perform and/or display publicly, prepare\n",
      "derivative works, distribute, and otherwise use matplotlib\n",
      "alone or in any derivative version, provided, however, that JDH's\n",
      "License Agreement and JDH's notice of copyright, i.e., \"Copyright (c)\n",
      "2002-2011 John D. Hunter; All Rights Reserved\" are retained in\n",
      "matplotlib  alone or in any derivative version prepared by\n",
      "Licensee.\n",
      "\n",
      "3. In the event Licensee prepares a derivative work that is based on or\n",
      "incorporates matplotlib  or any part thereof, and wants to\n",
      "make the derivative work available to others as provided herein, then\n",
      "Licensee hereby agrees to include in any such work a brief summary of\n",
      "the changes made to matplotlib.\n",
      "\n",
      "4. JDH is making matplotlib  available to Licensee on an \"AS\n",
      "IS\" basis.  JDH MAKES NO REPRESENTATIONS OR WARRANTIES, EXPRESS OR\n",
      "IMPLIED.  BY WAY OF EXAMPLE, BUT NOT LIMITATION, JDH MAKES NO AND\n",
      "DISCLAIMS ANY REPRESENTATION OR WARRANTY OF MERCHANTABILITY OR FITNESS\n",
      "FOR ANY PARTICULAR PURPOSE OR THAT THE USE OF MATPLOTLIB\n",
      "WILL NOT INFRINGE ANY THIRD PARTY RIGHTS.\n",
      "\n",
      "5. JDH SHALL NOT BE LIABLE TO LICENSEE OR ANY OTHER USERS OF MATPLOTLIB\n",
      " FOR ANY INCIDENTAL, SPECIAL, OR CONSEQUENTIAL DAMAGES OR\n",
      "LOSS AS A RESULT OF MODIFYING, DISTRIBUTING, OR OTHERWISE USING\n",
      "MATPLOTLIB , OR ANY DERIVATIVE THEREOF, EVEN IF ADVISED OF\n",
      "THE POSSIBILITY THEREOF.\n",
      "\n",
      "6. This License Agreement will automatically terminate upon a material\n",
      "breach of its terms and conditions.\n",
      "\n",
      "7. Nothing in this License Agreement shall be deemed to create any\n",
      "relationship of agency, partnership, or joint venture between JDH and\n",
      "Licensee.  This License Agreement does not grant permission to use JDH\n",
      "trademarks or trade name in a trademark sense to endorse or promote\n",
      "products or services of Licensee, or any third party.\n",
      "\n",
      "8. By copying, installing or otherwise using matplotlib,\n",
      "Licensee agrees to be bound by the terms and conditions of this License\n",
      "Agreement.\n",
      "Location: C:\\Users\\Atharv\\miniconda3\\Lib\\site-packages\n",
      "Requires: contourpy, cycler, fonttools, kiwisolver, numpy, packaging, pillow, pyparsing, python-dateutil\n",
      "Required-by: seaborn\n"
     ]
    },
    {
     "name": "stderr",
     "output_type": "stream",
     "text": [
      "WARNING: Package(s) not found: #system, command\n"
     ]
    }
   ],
   "source": [
    "!pip show matplotlib #system command"
   ]
  },
  {
   "cell_type": "code",
   "execution_count": 73,
   "metadata": {},
   "outputs": [],
   "source": [
    "import matplotlib.pyplot as plt"
   ]
  },
  {
   "cell_type": "code",
   "execution_count": 99,
   "metadata": {},
   "outputs": [
    {
     "data": {
      "text/plain": [
       "[<matplotlib.lines.Line2D at 0x2463dbbb410>]"
      ]
     },
     "execution_count": 99,
     "metadata": {},
     "output_type": "execute_result"
    },
    {
     "data": {
      "image/png": "[encoded data removed]",
      "text/plain": [
       "<Figure size 1000x1000 with 1 Axes>"
      ]
     },
     "metadata": {},
     "output_type": "display_data"
    }
   ],
   "source": [
    "plt.figure(figsize = (10,10)) # to control figure of the graph\n",
    "plt.plot([1,2,3], [4,5,6], linewidth = 10, color = 'orange', linestyle = 'dashed')"
   ]
  },
  {
   "cell_type": "code",
   "execution_count": 110,
   "metadata": {},
   "outputs": [
    {
     "data": {
      "text/plain": [
       "Text(2, 5.1, 'example')"
      ]
     },
     "execution_count": 110,
     "metadata": {},
     "output_type": "execute_result"
    },
    {
     "data": {
      "image/png": "[encoded data removed]",
      "text/plain": [
       "<Figure size 640x480 with 1 Axes>"
      ]
     },
     "metadata": {},
     "output_type": "display_data"
    }
   ],
   "source": [
    "plt.plot([1,2,3], [4,5,6], linewidth = 10, color = 'orange', linestyle = 'dashdot', marker = 'o', markersize = 20)\n",
    "plt.title('first plot')\n",
    "plt.xticks([1,2,3], ['one', 'two', 'three'], rotation = 45)\n",
    "plt.yticks([4,5,6], ['four', 'five', 'six'], rotation = 45)\n",
    "plt.xlabel('X-Axis')\n",
    "plt.ylabel('Y-Axis')\n",
    "plt.text(x = 2, y =5.1, s='example', fontsize= 12, color='red', horizontalalignment= 'center')"
   ]
  }
 ],
 "metadata": {
  "kernelspec": {
   "display_name": "base",
   "language": "python",
   "name": "python3"
  },
  "language_info": {
   "codemirror_mode": {
    "name": "ipython",
    "version": 3
   },
   "file_extension": ".py",
   "mimetype": "text/x-python",
   "name": "python",
   "nbconvert_exporter": "python",
   "pygments_lexer": "ipython3",
   "version": "3.12.3"
  }
 },
 "nbformat": 4,
 "nbformat_minor": 2
}
