{
 "cells": [
  {
   "cell_type": "code",
   "execution_count": 1,
   "metadata": {},
   "outputs": [
    {
     "name": "stdout",
     "output_type": "stream",
     "text": [
      "<class 'str'>\n"
     ]
    }
   ],
   "source": [
    "print(type('hello'))"
   ]
  },
  {
   "cell_type": "code",
   "execution_count": 4,
   "metadata": {},
   "outputs": [],
   "source": [
    "class Pen:\n",
    "    shape = None\n",
    "    color = None\n",
    "    material = None\n",
    "    type = None\n",
    "\n",
    "    def show(self):\n",
    "        print('This is a pen')"
   ]
  },
  {
   "cell_type": "code",
   "execution_count": 7,
   "metadata": {},
   "outputs": [
    {
     "name": "stdout",
     "output_type": "stream",
     "text": [
      "<__main__.Pen object at 0x0000019BDE2EF2F0>\n"
     ]
    }
   ],
   "source": [
    "p1 = Pen() #create an object of Pen class\n",
    "print(p1)"
   ]
  },
  {
   "cell_type": "code",
   "execution_count": 8,
   "metadata": {},
   "outputs": [
    {
     "name": "stdout",
     "output_type": "stream",
     "text": [
      "This is a pen\n"
     ]
    }
   ],
   "source": [
    "p1.show()"
   ]
  },
  {
   "cell_type": "code",
   "execution_count": 9,
   "metadata": {},
   "outputs": [],
   "source": [
    "p1.color = 'blue' #assigning values to attributes\n",
    "p1.material = 'metal'\n",
    "p1.shape = 'cylinder'\n",
    "p1.type = 'ballpoint'"
   ]
  },
  {
   "cell_type": "code",
   "execution_count": 36,
   "metadata": {},
   "outputs": [],
   "source": [
    "class Student:\n",
    "    def __init__(self, nm , course, college, gender = 'F') -> None:\n",
    "        # instance method\n",
    "        self.name = nm\n",
    "        self.course = course\n",
    "        self.college = college\n",
    "        self.gender = gender\n",
    "        self.skills = []\n",
    "    # instance method\n",
    "    def show(self):\n",
    "        print(self.name)\n",
    "        print(self.course)\n",
    "        print(self.college)\n",
    "        print(self.gender)\n",
    "        print(self.skills)\n",
    "    \n",
    "    def addskill(self, new_skill):\n",
    "        self.skills.append(new_skill)"
   ]
  },
  {
   "cell_type": "code",
   "execution_count": 42,
   "metadata": {},
   "outputs": [
    {
     "name": "stdout",
     "output_type": "stream",
     "text": [
      "atharv\n",
      "Btech\n",
      "UPES\n",
      "M\n",
      "[]\n",
      "atharv\n",
      "Btech\n",
      "UPES\n",
      "M\n",
      "['coding', 'strategy']\n"
     ]
    }
   ],
   "source": [
    "s1=Student('atharv', 'Btech', 'UPES', 'M')\n",
    "s1.show()\n",
    "s1.addskill('coding')\n",
    "s1.addskill('strategy')\n",
    "s1.show()\n"
   ]
  },
  {
   "cell_type": "markdown",
   "metadata": {},
   "source": [
    "### data class\n",
    "- `data class` is a class that only contains data and no methods"
   ]
  },
  {
   "cell_type": "code",
   "execution_count": 43,
   "metadata": {},
   "outputs": [],
   "source": [
    "from dataclasses import dataclass"
   ]
  },
  {
   "cell_type": "code",
   "execution_count": 46,
   "metadata": {},
   "outputs": [],
   "source": [
    "@dataclass\n",
    "class Employee:\n",
    "    name : str\n",
    "    designation : str\n",
    "    salary : float"
   ]
  },
  {
   "cell_type": "code",
   "execution_count": 47,
   "metadata": {},
   "outputs": [
    {
     "name": "stdout",
     "output_type": "stream",
     "text": [
      "Employee(name='sam', designation='manager', salary=45000)\n"
     ]
    }
   ],
   "source": [
    "e1 = Employee('sam', 'manager', 45000)\n",
    "print(e1)"
   ]
  },
  {
   "cell_type": "markdown",
   "metadata": {},
   "source": [
    "## Inheritance"
   ]
  },
  {
   "cell_type": "code",
   "execution_count": 49,
   "metadata": {},
   "outputs": [],
   "source": [
    "class Backbenchers(Student):\n",
    "    pass"
   ]
  },
  {
   "cell_type": "code",
   "execution_count": 51,
   "metadata": {},
   "outputs": [
    {
     "name": "stdout",
     "output_type": "stream",
     "text": [
      "atharv\n",
      "btech\n",
      "UPES\n",
      "M\n",
      "[]\n",
      "atharv\n",
      "btech\n",
      "UPES\n",
      "M\n",
      "['sleeping']\n"
     ]
    }
   ],
   "source": [
    "b1 = Backbenchers('atharv', 'btech', 'UPES', 'M')\n",
    "b1.show()\n",
    "b1.addskill('sleeping')\n",
    "b1.show()"
   ]
  },
  {
   "cell_type": "markdown",
   "metadata": {},
   "source": [
    "inheritance\n",
    "- `there are no access modifiers in python, everything is public`\n",
    "- method overriding"
   ]
  },
  {
   "cell_type": "code",
   "execution_count": 5,
   "metadata": {},
   "outputs": [],
   "source": [
    "# parent class\n",
    "class Shape:\n",
    "    def __init__(self, color, filled) -> None:\n",
    "        self.color = color\n",
    "        self.filled = filled\n",
    "    \n",
    "    def show(self):\n",
    "        print('color =', self.color)\n",
    "        print('filled =', self.filled)\n"
   ]
  },
  {
   "cell_type": "code",
   "execution_count": 14,
   "metadata": {},
   "outputs": [],
   "source": [
    "# child class\n",
    "class Circle(Shape):\n",
    "    #constructor ovveriding\n",
    "    def __init__(self, radius, color, filled) -> None:\n",
    "        super().__init__(color, filled)\n",
    "        self.radius= radius\n",
    "\n",
    "class Rectangle(Shape):\n",
    "    #constructor ovveriding\n",
    "    def __init__(self,l , w, color, filled) -> None:\n",
    "        super().__init__(color, filled)\n",
    "        self.length = l\n",
    "        self.width = w\n",
    "\n",
    "    def show(self):\n",
    "        super().show()\n",
    "        print('Length:', self.length)\n",
    "        print('Width:', self.width)\n",
    "\n",
    "    def area(self):\n",
    "        return self.length * self.width\n",
    "\n",
    "class Triangle(Shape):\n",
    "    def __init__(self, base, height) -> None:\n",
    "        #parent class constructor fixed value\n",
    "        super().__init__(color = 'red', filled = True)\n",
    "        self.base = base\n",
    "        self.height = height"
   ]
  },
  {
   "cell_type": "code",
   "execution_count": 15,
   "metadata": {},
   "outputs": [
    {
     "name": "stdout",
     "output_type": "stream",
     "text": [
      "color = red\n",
      "filled = True\n",
      "color = green\n",
      "filled = False\n",
      "Length: 10\n",
      "Width: 5\n",
      "area of rectangle:  50\n",
      "color = red\n",
      "filled = True\n"
     ]
    }
   ],
   "source": [
    "cicle = Circle(5, 'red', True)\n",
    "cicle.show()\n",
    "rect = Rectangle(10, 5, 'green', False)\n",
    "rect.show()\n",
    "print('area of rectangle: ',rect.area())\n",
    "tri = Triangle(10,5)\n",
    "tri.show()"
   ]
  }
 ],
 "metadata": {
  "kernelspec": {
   "display_name": "base",
   "language": "python",
   "name": "python3"
  },
  "language_info": {
   "codemirror_mode": {
    "name": "ipython",
    "version": 3
   },
   "file_extension": ".py",
   "mimetype": "text/x-python",
   "name": "python",
   "nbconvert_exporter": "python",
   "pygments_lexer": "ipython3",
   "version": "3.12.3"
  }
 },
 "nbformat": 4,
 "nbformat_minor": 2
}
