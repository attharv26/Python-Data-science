{
 "cells": [
  {
   "cell_type": "code",
   "execution_count": 3,
   "metadata": {},
   "outputs": [
    {
     "name": "stdout",
     "output_type": "stream",
     "text": [
      "[1, 2, 3, 4, 5, 6, 7, 8, 9, 10]\n"
     ]
    }
   ],
   "source": [
    "a =[]\n",
    "for i in range(0, 10):\n",
    "    a.append(int(input('Enter integers to add to list')))\n",
    "print(a)"
   ]
  },
  {
   "cell_type": "code",
   "execution_count": 6,
   "metadata": {},
   "outputs": [
    {
     "name": "stdout",
     "output_type": "stream",
     "text": [
      "True\n"
     ]
    }
   ],
   "source": [
    "nums= [1,2,3,4,5,6,7,8,9,10]\n",
    "print(int(input('enter a number')) in nums)"
   ]
  },
  {
   "cell_type": "code",
   "execution_count": 20,
   "metadata": {},
   "outputs": [
    {
     "name": "stdout",
     "output_type": "stream",
     "text": [
      "['a', 'c', 'e', 'e', 'f', 'h', 'h', 'i', 'j', 'l', 'o', 'p', 'q', 'r', 's', 't', 'u', 'x', 'y', 'y', 'z']\n"
     ]
    }
   ],
   "source": [
    "alpha = ['a','c','f','s','e','y','h','u','o','p','e','r','t','y','h','j','l','i','z','x','q']\n",
    "alpha.sort()\n",
    "print(alpha)\n"
   ]
  },
  {
   "cell_type": "code",
   "execution_count": 68,
   "metadata": {},
   "outputs": [
    {
     "name": "stdout",
     "output_type": "stream",
     "text": [
      "[20, 19, 2, 20, 16, 7, 6, 12, 4, 19]\n",
      "20\n"
     ]
    }
   ],
   "source": [
    "from random import randint\n",
    "num = [randint(0,20) for i in range(0,10)]\n",
    "print(num)\n",
    "print(max(num))\n"
   ]
  },
  {
   "cell_type": "code",
   "execution_count": 74,
   "metadata": {},
   "outputs": [
    {
     "name": "stdout",
     "output_type": "stream",
     "text": [
      "[5, 14, 13, 11, 0, 13, 8, 12, 7, 17]\n",
      "[17, 16, 6, 0, 20, 1, 19, 20, 10, 8]\n",
      "0\n",
      "8\n",
      "17\n"
     ]
    }
   ],
   "source": [
    "num1 = [randint(0,20) for i in range(0,10)]\n",
    "num2 = [randint(0,20) for i in range(0,10)]\n",
    "print(num1)\n",
    "print(num2)\n",
    "for i in num1:\n",
    "    if i in num2:\n",
    "        print(i)"
   ]
  },
  {
   "cell_type": "code",
   "execution_count": 80,
   "metadata": {},
   "outputs": [
    {
     "name": "stdout",
     "output_type": "stream",
     "text": [
      "['hello', 'uhyriwothowhgfwoubfgw', 'qwertyuiop']\n"
     ]
    }
   ],
   "source": [
    "txt = ['hellfyio', 'uhyriwfyiothowhgfwoubfgw', 'qwefyirtyuiop']\n",
    "txt_1 = list(map(lambda i: i.replace('fyi', ''), txt))\n",
    "print(txt_1)"
   ]
  },
  {
   "cell_type": "code",
   "execution_count": null,
   "metadata": {},
   "outputs": [],
   "source": []
  }
 ],
 "metadata": {
  "kernelspec": {
   "display_name": "base",
   "language": "python",
   "name": "python3"
  },
  "language_info": {
   "codemirror_mode": {
    "name": "ipython",
    "version": 3
   },
   "file_extension": ".py",
   "mimetype": "text/x-python",
   "name": "python",
   "nbconvert_exporter": "python",
   "pygments_lexer": "ipython3",
   "version": "3.12.3"
  }
 },
 "nbformat": 4,
 "nbformat_minor": 2
}
