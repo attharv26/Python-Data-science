{
 "cells": [
  {
   "cell_type": "markdown",
   "metadata": {},
   "source": [
    "functions are of two types\n",
    "- pre-defined\n",
    "\n",
    "  - `print`, `input`, `sum`, `len`, `type`, `isinstance`\n",
    "- user-defined\n",
    "\n",
    "  - `defined by users(coders)`\n",
    "  - `reusability`\n",
    "  - `easy debugging`\n",
    "  - `manageable`"
   ]
  },
  {
   "cell_type": "code",
   "execution_count": 1,
   "metadata": {},
   "outputs": [],
   "source": [
    "# defining the function\n",
    "def greetings():\n",
    "    print('☀️☀️☀️')\n",
    "    print('Good morining!')\n",
    "    print('☀️☀️☀️')"
   ]
  },
  {
   "cell_type": "code",
   "execution_count": 5,
   "metadata": {},
   "outputs": [
    {
     "name": "stdout",
     "output_type": "stream",
     "text": [
      "☀️☀️☀️\n",
      "Good morining!\n",
      "☀️☀️☀️\n"
     ]
    }
   ],
   "source": [
    "# calling a function(using)\n",
    "greetings()"
   ]
  },
  {
   "cell_type": "code",
   "execution_count": 9,
   "metadata": {},
   "outputs": [],
   "source": [
    "def roll():\n",
    "    from random import randint\n",
    "    dice = randint(1,6)\n",
    "    print(f'🎲 {dice}')"
   ]
  },
  {
   "cell_type": "code",
   "execution_count": 23,
   "metadata": {},
   "outputs": [
    {
     "name": "stdout",
     "output_type": "stream",
     "text": [
      "🎲 4\n"
     ]
    }
   ],
   "source": [
    "roll()"
   ]
  },
  {
   "cell_type": "code",
   "execution_count": 30,
   "metadata": {},
   "outputs": [],
   "source": [
    "def area(l ,b):\n",
    "    a =  l*b\n",
    "    print(f'area = {a} unit sq.')"
   ]
  },
  {
   "cell_type": "code",
   "execution_count": 32,
   "metadata": {},
   "outputs": [
    {
     "name": "stdout",
     "output_type": "stream",
     "text": [
      "area = 57.5 unit sq.\n"
     ]
    }
   ],
   "source": [
    "area(5,10)"
   ]
  },
  {
   "cell_type": "code",
   "execution_count": 34,
   "metadata": {},
   "outputs": [],
   "source": [
    "# professional way of writing a function\n",
    "def perimeter(l : int, b : int) -> None:\n",
    "    \"\"\"prints the perimeter of a rectangle  \n",
    "\n",
    "    Args:\n",
    "        l (int): length of rectangle\n",
    "        b (int): breadth of rectangle\n",
    "    \"\"\"\n",
    "    p = 2 * (l+b)\n",
    "    print(p)"
   ]
  },
  {
   "cell_type": "code",
   "execution_count": 35,
   "metadata": {},
   "outputs": [
    {
     "name": "stdout",
     "output_type": "stream",
     "text": [
      "50\n"
     ]
    }
   ],
   "source": [
    "perimeter(5,20)"
   ]
  },
  {
   "cell_type": "code",
   "execution_count": 37,
   "metadata": {},
   "outputs": [],
   "source": [
    "def fiver():\n",
    "    from random import choices\n",
    "    data = list(range(1,101))\n",
    "    return choices(data , k=5)"
   ]
  },
  {
   "cell_type": "code",
   "execution_count": 42,
   "metadata": {},
   "outputs": [
    {
     "data": {
      "text/plain": [
       "[36, 32, 75, 20, 45]"
      ]
     },
     "execution_count": 42,
     "metadata": {},
     "output_type": "execute_result"
    }
   ],
   "source": [
    "fiver()"
   ]
  },
  {
   "cell_type": "code",
   "execution_count": 43,
   "metadata": {},
   "outputs": [
    {
     "name": "stdout",
     "output_type": "stream",
     "text": [
      "[8, 36, 55, 60, 22]\n",
      "[6, 13, 74, 39, 83]\n"
     ]
    }
   ],
   "source": [
    "trial_1 = fiver()\n",
    "trial_2 = fiver()\n",
    "print(trial_1)\n",
    "print(trial_2)"
   ]
  },
  {
   "cell_type": "code",
   "execution_count": 63,
   "metadata": {},
   "outputs": [],
   "source": [
    "def area_circle ( r : float):\n",
    "    return (3.14 * r **2)"
   ]
  },
  {
   "cell_type": "code",
   "execution_count": 66,
   "metadata": {},
   "outputs": [
    {
     "data": {
      "text/plain": [
       "103.01023781347283"
      ]
     },
     "execution_count": 66,
     "metadata": {},
     "output_type": "execute_result"
    }
   ],
   "source": [
    "area_circle(5.72763548254)"
   ]
  },
  {
   "cell_type": "code",
   "execution_count": 77,
   "metadata": {},
   "outputs": [],
   "source": [
    "# waf to remove vowels from a function\n",
    "def rm_vowel(text : str):\n",
    "    for i in 'AEIOUaeiou':\n",
    "        text = text.replace(i,'')\n",
    "    print(text)"
   ]
  },
  {
   "cell_type": "code",
   "execution_count": 79,
   "metadata": {},
   "outputs": [
    {
     "name": "stdout",
     "output_type": "stream",
     "text": [
      "hll\n"
     ]
    }
   ],
   "source": [
    "rm_vowel('hello')"
   ]
  },
  {
   "cell_type": "code",
   "execution_count": 93,
   "metadata": {},
   "outputs": [],
   "source": [
    "def summer(a=0, b=0,c=0,d=0): #default value( all values can be given a default value)\n",
    "    return a+b+c+d"
   ]
  },
  {
   "cell_type": "code",
   "execution_count": 94,
   "metadata": {},
   "outputs": [
    {
     "name": "stdout",
     "output_type": "stream",
     "text": [
      "30\n",
      "10\n",
      "59\n",
      "160\n",
      "120\n",
      "0\n"
     ]
    }
   ],
   "source": [
    "print(summer(10,20))\n",
    "print(summer(2,3,5)) #positional arguments\n",
    "print(summer(10,20, d=29)) #named arguments\n",
    "print(summer(10,20, d= 40, c=90)) #named arguments allows changing order of the arguments\n",
    "print(summer(10,20, 40 ,50))\n",
    "print(summer())"
   ]
  },
  {
   "cell_type": "markdown",
   "metadata": {},
   "source": [
    "lambda expression - anonymous function\n",
    "\n",
    "`f(x) = x + 5 * x - 2`"
   ]
  },
  {
   "cell_type": "code",
   "execution_count": 95,
   "metadata": {},
   "outputs": [
    {
     "name": "stdout",
     "output_type": "stream",
     "text": [
      "<function <lambda> at 0x0000028FF3C1A3E0>\n"
     ]
    }
   ],
   "source": [
    "f = lambda x: x + 5 * x - 2\n",
    "print(f) # not needed"
   ]
  },
  {
   "cell_type": "code",
   "execution_count": 97,
   "metadata": {},
   "outputs": [
    {
     "name": "stdout",
     "output_type": "stream",
     "text": [
      "10\n",
      "58\n",
      "532\n"
     ]
    }
   ],
   "source": [
    "print(f(2))\n",
    "print(f(10))\n",
    "print(f(89))"
   ]
  },
  {
   "cell_type": "code",
   "execution_count": 104,
   "metadata": {},
   "outputs": [
    {
     "name": "stdout",
     "output_type": "stream",
     "text": [
      "3.5\n"
     ]
    }
   ],
   "source": [
    "g = lambda x,y: x+y / 2\n",
    "print(g(2,3))"
   ]
  },
  {
   "cell_type": "code",
   "execution_count": null,
   "metadata": {},
   "outputs": [],
   "source": []
  }
 ],
 "metadata": {
  "kernelspec": {
   "display_name": "base",
   "language": "python",
   "name": "python3"
  },
  "language_info": {
   "codemirror_mode": {
    "name": "ipython",
    "version": 3
   },
   "file_extension": ".py",
   "mimetype": "text/x-python",
   "name": "python",
   "nbconvert_exporter": "python",
   "pygments_lexer": "ipython3",
   "version": "3.12.3"
  }
 },
 "nbformat": 4,
 "nbformat_minor": 2
}
