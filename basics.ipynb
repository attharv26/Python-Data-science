{
 "cells": [
  {
   "cell_type": "markdown",
   "metadata": {},
   "source": [
    "# Basics\n",
    "- variable \n",
    "- input\n",
    "- output "
   ]
  },
  {
   "cell_type": "code",
   "execution_count": 2,
   "metadata": {},
   "outputs": [],
   "source": [
    "x=1.0\n",
    "y='hello'"
   ]
  },
  {
   "cell_type": "code",
   "execution_count": 3,
   "metadata": {},
   "outputs": [],
   "source": [
    "a=[1,2,3,4]\n",
    "b={ 'name': 'raju', 'age':12}"
   ]
  },
  {
   "cell_type": "code",
   "execution_count": 4,
   "metadata": {},
   "outputs": [],
   "source": [
    "name= input(\"enter the name\")"
   ]
  },
  {
   "cell_type": "markdown",
   "metadata": {},
   "source": [
    "## displaying data"
   ]
  },
  {
   "cell_type": "code",
   "execution_count": 5,
   "metadata": {},
   "outputs": [
    {
     "name": "stdout",
     "output_type": "stream",
     "text": [
      "hello world\n"
     ]
    }
   ],
   "source": [
    "print(\"hello world\")"
   ]
  },
  {
   "cell_type": "code",
   "execution_count": 6,
   "metadata": {},
   "outputs": [
    {
     "name": "stdout",
     "output_type": "stream",
     "text": [
      "alex\n",
      "baron\n"
     ]
    }
   ],
   "source": [
    "a='alex'\n",
    "b='baron'\n",
    "print(a)\n",
    "print(b)"
   ]
  },
  {
   "cell_type": "code",
   "execution_count": 7,
   "metadata": {},
   "outputs": [
    {
     "name": "stdout",
     "output_type": "stream",
     "text": [
      "your name is: 8\n"
     ]
    }
   ],
   "source": [
    "name= input('enter you name')\n",
    "print('your name is:', name)"
   ]
  },
  {
   "cell_type": "code",
   "execution_count": 8,
   "metadata": {},
   "outputs": [
    {
     "name": "stdout",
     "output_type": "stream",
     "text": [
      "you have entered 8 and 8\n"
     ]
    }
   ],
   "source": [
    "num1= input('enter a no')\n",
    "num2= input('enter a no')\n",
    "print('you have entered', num1,'and', num2)"
   ]
  },
  {
   "cell_type": "markdown",
   "metadata": {},
   "source": [
    "### displaying data with messages\n",
    "1. comma seperated\n",
    "2. format string \n",
    "3. format function \n",
    "4. string concatenation\n",
    "5. f-string\n"
   ]
  },
  {
   "cell_type": "code",
   "execution_count": 23,
   "metadata": {},
   "outputs": [
    {
     "name": "stdout",
     "output_type": "stream",
     "text": [
      "the values are 5, 3.275843, hello\n"
     ]
    }
   ],
   "source": [
    "#format string\n",
    "a,b,c= 5, 3.275843, 'hello' #multiple assignment\n",
    "print('the values are %d, %f, %s' % (a,b,c))"
   ]
  },
  {
   "cell_type": "code",
   "execution_count": 24,
   "metadata": {},
   "outputs": [
    {
     "name": "stdout",
     "output_type": "stream",
     "text": [
      "the value of a=5, b= 3.275843, c= hello\n"
     ]
    }
   ],
   "source": [
    "# format method\n",
    "print('the value of a={}, b= {}, c= {}' .format(a,b,c))"
   ]
  },
  {
   "cell_type": "code",
   "execution_count": 25,
   "metadata": {},
   "outputs": [
    {
     "name": "stdout",
     "output_type": "stream",
     "text": [
      "hello world\n",
      "the value of a 5\n",
      "the value of b 3.275843\n",
      "the value of c hello\n"
     ]
    }
   ],
   "source": [
    "# string concatenation\n",
    "print('hello '+'world')\n",
    "print('the value of a ' + str(a))\n",
    "print('the value of b ' + str(b))\n",
    "print('the value of c ' + c)"
   ]
  },
  {
   "cell_type": "code",
   "execution_count": 26,
   "metadata": {},
   "outputs": [
    {
     "name": "stdout",
     "output_type": "stream",
     "text": [
      "the value of a=5, b= 3.275843, c= hello\n"
     ]
    }
   ],
   "source": [
    "#f-string\n",
    "print(f'the value of a={a}, b= {b}, c= {c}')"
   ]
  },
  {
   "cell_type": "markdown",
   "metadata": {},
   "source": [
    "# f-string settings"
   ]
  },
  {
   "cell_type": "code",
   "execution_count": 30,
   "metadata": {},
   "outputs": [
    {
     "name": "stdout",
     "output_type": "stream",
     "text": [
      "10/3 = 3.3333333333333335\n",
      "10/3 = 3.33\n"
     ]
    }
   ],
   "source": [
    "#formatting values\n",
    "a,b = 10,3\n",
    "print(f'{a}/{b} = {a/b}')\n",
    "print(f'{a}/{b} = {a/b:.2f}') # :.2f->display 2 decimal place"
   ]
  },
  {
   "cell_type": "code",
   "execution_count": 33,
   "metadata": {},
   "outputs": [
    {
     "name": "stdout",
     "output_type": "stream",
     "text": [
      "you are alex\n",
      "you are alex      \n",
      "you are       alex\n",
      "you are alex      \n",
      "you are    alex   \n"
     ]
    }
   ],
   "source": [
    "#alignment \n",
    "name= 'alex'\n",
    "print(f'you are {name}')\n",
    "print(f'you are {name:10}') # 10 here is the number of characters\n",
    "print(f'you are {name:>10}') # right aligned\n",
    "print(f'you are {name:<10}') # left aligned\n",
    "print(f'you are {name:^10}') # centre aligned"
   ]
  },
  {
   "cell_type": "code",
   "execution_count": 37,
   "metadata": {},
   "outputs": [
    {
     "name": "stdout",
     "output_type": "stream",
     "text": [
      "🍎fruit 1:      apple\n",
      "🍇fruit 2:  blueberry\n",
      "🍒fruit 3:     cherry\n",
      "🍉fruit 4:dragonfruit\n"
     ]
    }
   ],
   "source": [
    "a,b,c,d='apple', 'blueberry', 'cherry', 'dragonfruit'\n",
    "print(f'🍎fruit 1:{a:>11}')\n",
    "print(f'🍇fruit 2:{b:>11}')\n",
    "print(f'🍒fruit 3:{c:>11}')\n",
    "print(f'🍉fruit 4:{d:>11}')\n"
   ]
  }
 ],
 "metadata": {
  "kernelspec": {
   "display_name": "base",
   "language": "python",
   "name": "python3"
  },
  "language_info": {
   "codemirror_mode": {
    "name": "ipython",
    "version": 3
   },
   "file_extension": ".py",
   "mimetype": "text/x-python",
   "name": "python",
   "nbconvert_exporter": "python",
   "pygments_lexer": "ipython3",
   "version": "3.12.3"
  }
 },
 "nbformat": 4,
 "nbformat_minor": 2
}
