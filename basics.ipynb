{
 "cells": [
  {
   "cell_type": "markdown",
   "metadata": {},
   "source": [
    "# Basics\n",
    "- variable \n",
    "- input\n",
    "- output "
   ]
  },
  {
   "cell_type": "code",
   "execution_count": 7,
   "metadata": {},
   "outputs": [],
   "source": [
    "x=1.0\n",
    "y='hello'"
   ]
  },
  {
   "cell_type": "code",
   "execution_count": 8,
   "metadata": {},
   "outputs": [],
   "source": [
    "a=[1,2,3,4]\n",
    "b={ 'name': 'raju', 'age':12}"
   ]
  },
  {
   "cell_type": "code",
   "execution_count": 9,
   "metadata": {},
   "outputs": [],
   "source": [
    "name= input(\"enter the name\")"
   ]
  },
  {
   "cell_type": "markdown",
   "metadata": {},
   "source": [
    "## displaying data"
   ]
  },
  {
   "cell_type": "code",
   "execution_count": 10,
   "metadata": {},
   "outputs": [
    {
     "name": "stdout",
     "output_type": "stream",
     "text": [
      "hello world\n"
     ]
    }
   ],
   "source": [
    "print(\"hello world\")"
   ]
  },
  {
   "cell_type": "code",
   "execution_count": 11,
   "metadata": {},
   "outputs": [
    {
     "name": "stdout",
     "output_type": "stream",
     "text": [
      "alex\n",
      "baron\n"
     ]
    }
   ],
   "source": [
    "a='alex'\n",
    "b='baron'\n",
    "print(a)\n",
    "print(b)"
   ]
  },
  {
   "cell_type": "code",
   "execution_count": 12,
   "metadata": {},
   "outputs": [
    {
     "name": "stdout",
     "output_type": "stream",
     "text": [
      "your name is: kjbd\n"
     ]
    }
   ],
   "source": [
    "name= input('enter you name')\n",
    "print('your name is:', name)"
   ]
  },
  {
   "cell_type": "code",
   "execution_count": 13,
   "metadata": {},
   "outputs": [
    {
     "name": "stdout",
     "output_type": "stream",
     "text": [
      "you have entered 95 and 95\n"
     ]
    }
   ],
   "source": [
    "num1= input('enter a no')\n",
    "num2= input('enter a no')\n",
    "print('you have entered', num1,'and', num2)"
   ]
  },
  {
   "cell_type": "markdown",
   "metadata": {},
   "source": [
    "### displaying data with messages\n",
    "1. comma seperated\n",
    "2. format string \n",
    "3. format function \n",
    "4. string concatenation\n",
    "5. f-string\n"
   ]
  },
  {
   "cell_type": "code",
   "execution_count": 14,
   "metadata": {},
   "outputs": [
    {
     "name": "stdout",
     "output_type": "stream",
     "text": [
      "the values are 5, 3.275843, hello\n"
     ]
    }
   ],
   "source": [
    "#format string\n",
    "a,b,c= 5, 3.275843, 'hello' #multiple assignment\n",
    "print('the values are %d, %f, %s' % (a,b,c))"
   ]
  },
  {
   "cell_type": "code",
   "execution_count": 15,
   "metadata": {},
   "outputs": [
    {
     "name": "stdout",
     "output_type": "stream",
     "text": [
      "the value of a=5, b= 3.275843, c= hello\n"
     ]
    }
   ],
   "source": [
    "# format method\n",
    "print('the value of a={}, b= {}, c= {}' .format(a,b,c))"
   ]
  },
  {
   "cell_type": "code",
   "execution_count": 16,
   "metadata": {},
   "outputs": [
    {
     "name": "stdout",
     "output_type": "stream",
     "text": [
      "hello world\n",
      "the value of a 5\n",
      "the value of b 3.275843\n",
      "the value of c hello\n"
     ]
    }
   ],
   "source": [
    "# string concatenation\n",
    "print('hello '+'world')\n",
    "print('the value of a ' + str(a))\n",
    "print('the value of b ' + str(b))\n",
    "print('the value of c ' + c)"
   ]
  },
  {
   "cell_type": "code",
   "execution_count": 17,
   "metadata": {},
   "outputs": [
    {
     "name": "stdout",
     "output_type": "stream",
     "text": [
      "the value of a=5, b= 3.275843, c= hello\n"
     ]
    }
   ],
   "source": [
    "#f-string\n",
    "print(f'the value of a={a}, b= {b}, c= {c}')"
   ]
  },
  {
   "cell_type": "markdown",
   "metadata": {},
   "source": [
    "# f-string settings"
   ]
  },
  {
   "cell_type": "code",
   "execution_count": 18,
   "metadata": {},
   "outputs": [
    {
     "name": "stdout",
     "output_type": "stream",
     "text": [
      "10/3 = 3.3333333333333335\n",
      "10/3 = 3.33\n"
     ]
    }
   ],
   "source": [
    "#formatting values\n",
    "a,b = 10,3\n",
    "print(f'{a}/{b} = {a/b}')\n",
    "print(f'{a}/{b} = {a/b:.2f}') # :.2f->display 2 decimal place"
   ]
  },
  {
   "cell_type": "code",
   "execution_count": 19,
   "metadata": {},
   "outputs": [
    {
     "name": "stdout",
     "output_type": "stream",
     "text": [
      "you are alex\n",
      "you are alex      \n",
      "you are       alex\n",
      "you are alex      \n",
      "you are    alex   \n"
     ]
    }
   ],
   "source": [
    "#alignment \n",
    "name= 'alex'\n",
    "print(f'you are {name}')\n",
    "print(f'you are {name:10}') # 10 here is the number of characters\n",
    "print(f'you are {name:>10}') # right aligned\n",
    "print(f'you are {name:<10}') # left aligned\n",
    "print(f'you are {name:^10}') # centre aligned"
   ]
  },
  {
   "cell_type": "code",
   "execution_count": 20,
   "metadata": {},
   "outputs": [
    {
     "name": "stdout",
     "output_type": "stream",
     "text": [
      "🍎fruit 1:               apple\n",
      "🍇fruit 2:           blueberry\n",
      "🍒fruit 3:              cherry\n",
      "🍉fruit 4:         dragonfruit\n"
     ]
    }
   ],
   "source": [
    "a,b,c,d='apple', 'blueberry', 'cherry', 'dragonfruit'\n",
    "print(f'🍎fruit 1:{a:>20}')\n",
    "print(f'🍇fruit 2:{b:>20}')\n",
    "print(f'🍒fruit 3:{c:>20}')\n",
    "print(f'🍉fruit 4:{d:>20}')\n"
   ]
  },
  {
   "cell_type": "markdown",
   "metadata": {},
   "source": [
    "## operaters\n",
    "- arithmetic (+, -, *, /( float division), %, //(integer division), **(raise to power))\n",
    "- assignment (=, +=, -+, *=, /= and so on)\n",
    "- comparison (<, >, ==, !=, <=, >=)\n",
    "- logical ( and, or, not)\n",
    "- relationship (in)\n",
    "- identity (is)\n",
    "- bitwise\n"
   ]
  },
  {
   "cell_type": "code",
   "execution_count": 1,
   "metadata": {},
   "outputs": [
    {
     "name": "stdout",
     "output_type": "stream",
     "text": [
      "10 + 3 = 13\n",
      "10 - 3 = 7\n",
      "10 * 3 = 30\n",
      "10 / 3 = 3.3333333333333335\n",
      "10 // 3 = 3\n",
      "10 % 3 = 1\n",
      "10 ** 3 = 1000\n"
     ]
    }
   ],
   "source": [
    "#arithmetic\n",
    "x=10\n",
    "y=3\n",
    "print(f\"{x} + {y} = {x+y}\")\n",
    "print(f\"{x} - {y} = {x-y}\")\n",
    "print(f\"{x} * {y} = {x*y}\")\n",
    "print(f\"{x} / {y} = {x/y}\")\n",
    "print(f\"{x} // {y} = {x//y}\")\n",
    "print(f\"{x} % {y} = {x%y}\")\n",
    "print(f\"{x} ** {y} = {x**y}\")"
   ]
  },
  {
   "cell_type": "code",
   "execution_count": 2,
   "metadata": {},
   "outputs": [
    {
     "name": "stdout",
     "output_type": "stream",
     "text": [
      "99\n"
     ]
    }
   ],
   "source": [
    "eq= x**2 + y**2 % 10 -5 * 2\n",
    "print(eq)"
   ]
  },
  {
   "cell_type": "code",
   "execution_count": 3,
   "metadata": {},
   "outputs": [],
   "source": [
    "#assignment\n",
    "x= 120\n",
    "x+=5\n",
    "x*=10\n",
    "x/=2"
   ]
  },
  {
   "cell_type": "code",
   "execution_count": 5,
   "metadata": {},
   "outputs": [
    {
     "name": "stdout",
     "output_type": "stream",
     "text": [
      "True\n",
      "False\n",
      "False\n",
      "True\n",
      "True\n",
      "False\n"
     ]
    }
   ],
   "source": [
    "#comparison\n",
    "print(x > y) #greater than\n",
    "print(x < y) #less than\n",
    "print(x == y)#equal to\n",
    "print(x != y)#not equal to\n",
    "print(x >= y)#greater than or equal to\n",
    "print(x <= y)#less than or equal to"
   ]
  },
  {
   "cell_type": "code",
   "execution_count": 8,
   "metadata": {},
   "outputs": [
    {
     "data": {
      "text/plain": [
       "True"
      ]
     },
     "execution_count": 8,
     "metadata": {},
     "output_type": "execute_result"
    }
   ],
   "source": [
    "#logical\n",
    "x>y and x>100\n",
    "x > 15 or y > 10"
   ]
  },
  {
   "cell_type": "code",
   "execution_count": 11,
   "metadata": {},
   "outputs": [
    {
     "name": "stdout",
     "output_type": "stream",
     "text": [
      "True\n",
      "False\n"
     ]
    }
   ],
   "source": [
    "#relationship\n",
    "fruit= ['apple', 'banana', 'cherry', 'elderberry']\n",
    "print('cherry' in fruit) #searches if cherry is in fruits\n",
    "print('blueberry' in fruit)"
   ]
  },
  {
   "cell_type": "code",
   "execution_count": 19,
   "metadata": {},
   "outputs": [
    {
     "name": "stdout",
     "output_type": "stream",
     "text": [
      "True\n",
      "False\n"
     ]
    }
   ],
   "source": [
    "#identity\n",
    "f= fruit\n",
    "print(f is fruit) #check if f is stored in the same memory location as fruit (in python data is not copied unless not asked explicitly)\n",
    "f2= fruit.copy() #f2 is copy of fruit\n",
    "print(f2 is fruit)\n"
   ]
  },
  {
   "cell_type": "markdown",
   "metadata": {},
   "source": [
    "## typecasting"
   ]
  },
  {
   "cell_type": "code",
   "execution_count": 27,
   "metadata": {},
   "outputs": [
    {
     "name": "stdout",
     "output_type": "stream",
     "text": [
      "<class 'int'> <class 'float'>\n",
      "True\n",
      "False\n",
      "False\n",
      "True\n"
     ]
    }
   ],
   "source": [
    "x= 10\n",
    "xf= float(x)\n",
    "print(type(x), type(xf))\n",
    "#checking if x is an integer\n",
    "print(isinstance(x, int))\n",
    "print(isinstance(xf, int))\n",
    "print(isinstance(x, str))\n",
    "print(isinstance(x, (int , float)))\n",
    "\n"
   ]
  },
  {
   "cell_type": "code",
   "execution_count": 28,
   "metadata": {},
   "outputs": [
    {
     "name": "stdout",
     "output_type": "stream",
     "text": [
      "97\n",
      "a\n"
     ]
    }
   ],
   "source": [
    "print(ord('a')) #returns the unicode value of character\n",
    "print(chr(97))  #return the character of a unicode value"
   ]
  }
 ],
 "metadata": {
  "kernelspec": {
   "display_name": "base",
   "language": "python",
   "name": "python3"
  },
  "language_info": {
   "codemirror_mode": {
    "name": "ipython",
    "version": 3
   },
   "file_extension": ".py",
   "mimetype": "text/x-python",
   "name": "python",
   "nbconvert_exporter": "python",
   "pygments_lexer": "ipython3",
   "version": "3.12.3"
  }
 },
 "nbformat": 4,
 "nbformat_minor": 2
}
