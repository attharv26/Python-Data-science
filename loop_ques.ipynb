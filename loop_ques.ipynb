{
 "cells": [
  {
   "cell_type": "code",
   "execution_count": 2,
   "metadata": {},
   "outputs": [
    {
     "name": "stdout",
     "output_type": "stream",
     "text": [
      "1\n",
      "2\n",
      "3\n",
      "4\n",
      "5\n",
      "6\n",
      "7\n",
      "8\n",
      "9\n",
      "10\n"
     ]
    }
   ],
   "source": [
    "for i in range(1,11):print(i)"
   ]
  },
  {
   "cell_type": "code",
   "execution_count": 4,
   "metadata": {},
   "outputs": [
    {
     "name": "stdout",
     "output_type": "stream",
     "text": [
      "45 *  1 =  45\n",
      "45 *  2 =  90\n",
      "45 *  3 = 135\n",
      "45 *  4 = 180\n",
      "45 *  5 = 225\n",
      "45 *  6 = 270\n",
      "45 *  7 = 315\n",
      "45 *  8 = 360\n",
      "45 *  9 = 405\n",
      "45 * 10 = 450\n"
     ]
    }
   ],
   "source": [
    "num = int(input('enter a number:'))\n",
    "for i in range (1,11):\n",
    "    print(f'{num} * {i:>2} = {num*i:>3}')"
   ]
  },
  {
   "cell_type": "code",
   "execution_count": 8,
   "metadata": {},
   "outputs": [
    {
     "name": "stdout",
     "output_type": "stream",
     "text": [
      "the sum of all even numbers bw 1 to 100 is 2550\n"
     ]
    }
   ],
   "source": [
    "sum = 0\n",
    "for i in range (1,101):\n",
    "    if i%2 == 0:\n",
    "        sum+=i\n",
    "print(\"the sum of all even numbers bw 1 to 100 is\", sum)"
   ]
  },
  {
   "cell_type": "code",
   "execution_count": 30,
   "metadata": {},
   "outputs": [
    {
     "name": "stdout",
     "output_type": "stream",
     "text": [
      "prime\n"
     ]
    }
   ],
   "source": [
    "num_a = int(input(\"enter a number:\"))\n",
    "for i in range (2, num_a//2 + 1):\n",
    "    if num_a % i == 0:\n",
    "        print(\"not prime\")\n",
    "        break\n",
    "else:\n",
    "    print('prime')"
   ]
  },
  {
   "cell_type": "code",
   "execution_count": 34,
   "metadata": {},
   "outputs": [
    {
     "name": "stdout",
     "output_type": "stream",
     "text": [
      "6\n"
     ]
    }
   ],
   "source": [
    "num = int(input(\"enter a number:\"))\n",
    "fact = 1\n",
    "for i in range( num, 0,-1):\n",
    "    fact *= i\n",
    "print(fact)"
   ]
  },
  {
   "cell_type": "code",
   "execution_count": 42,
   "metadata": {},
   "outputs": [
    {
     "name": "stdout",
     "output_type": "stream",
     "text": [
      "[0, 1, 1, 2, 3, 5, 8, 13, 21, 34, 55, 89]\n"
     ]
    }
   ],
   "source": [
    "limit = int(input(\"enter a limit:\"))\n",
    "series =[0,1]\n",
    "for i in range (1, limit+1):\n",
    "    series.append(series[i-1]+series[i])\n",
    "print(series)\n"
   ]
  },
  {
   "cell_type": "code",
   "execution_count": 65,
   "metadata": {},
   "outputs": [
    {
     "ename": "TypeError",
     "evalue": "'str' object does not support item assignment",
     "output_type": "error",
     "traceback": [
      "\u001b[1;31m---------------------------------------------------------------------------\u001b[0m",
      "\u001b[1;31mTypeError\u001b[0m                                 Traceback (most recent call last)",
      "Cell \u001b[1;32mIn[65], line 6\u001b[0m\n\u001b[0;32m      4\u001b[0m b \u001b[38;5;241m=\u001b[39m \u001b[38;5;28mlen\u001b[39m(text)\u001b[38;5;241m-\u001b[39m\u001b[38;5;241m1\u001b[39m\n\u001b[0;32m      5\u001b[0m \u001b[38;5;28;01mwhile\u001b[39;00m a\u001b[38;5;241m!=\u001b[39m \u001b[38;5;241m-\u001b[39m\u001b[38;5;241m1\u001b[39m:\n\u001b[1;32m----> 6\u001b[0m     text[a] \u001b[38;5;241m=\u001b[39m temp\n\u001b[0;32m      7\u001b[0m     text[a] \u001b[38;5;241m=\u001b[39m text[b\u001b[38;5;241m-\u001b[39ma]\n\u001b[0;32m      8\u001b[0m     text[b\u001b[38;5;241m-\u001b[39ma] \u001b[38;5;241m=\u001b[39m temp\n",
      "\u001b[1;31mTypeError\u001b[0m: 'str' object does not support item assignment"
     ]
    }
   ],
   "source": [
    "# wrong\n",
    "text = 'this is a string'\n",
    "temp = 'a'\n",
    "a = len(text)-1\n",
    "b = a\n",
    "while a!= -1:\n",
    "    text[a] = temp\n",
    "    text[a] = text[b-a]\n",
    "    text[b-a] = temp\n",
    "    print(text)\n",
    "    a-=1"
   ]
  }
 ],
 "metadata": {
  "kernelspec": {
   "display_name": "base",
   "language": "python",
   "name": "python3"
  },
  "language_info": {
   "codemirror_mode": {
    "name": "ipython",
    "version": 3
   },
   "file_extension": ".py",
   "mimetype": "text/x-python",
   "name": "python",
   "nbconvert_exporter": "python",
   "pygments_lexer": "ipython3",
   "version": "3.12.3"
  }
 },
 "nbformat": 4,
 "nbformat_minor": 2
}
