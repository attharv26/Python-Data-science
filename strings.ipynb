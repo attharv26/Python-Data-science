{
 "cells": [
  {
   "cell_type": "markdown",
   "metadata": {},
   "source": [
    "- creating\n",
    "- indexing\n",
    "- methods\n",
    "- tips and tricks"
   ]
  },
  {
   "cell_type": "code",
   "execution_count": 3,
   "metadata": {},
   "outputs": [],
   "source": [
    "#creating\n",
    "a = 'apples'\n",
    "b = \"apples\"\n",
    "c = '''this is a\n",
    "multiline\n",
    "string'''\n",
    "d = str(9879)\n"
   ]
  },
  {
   "cell_type": "code",
   "execution_count": 7,
   "metadata": {},
   "outputs": [
    {
     "name": "stdout",
     "output_type": "stream",
     "text": [
      "apples is a fruit\n"
     ]
    }
   ],
   "source": [
    "#types of string\n",
    "# f-string\n",
    "x = f'{a} is a fruit'\n",
    "print (x)\n",
    "# raw string\n",
    "addr= r'c:\\users\\atharv\\desktop' #in raw strings special character behave normally\n",
    "# unicode string\n",
    "uni = u'hello'\n",
    "print(uni)\n",
    "#byte string\n",
    "byt= b'hello' # helps in storing data of images, vid, etc in bytes\n",
    "print(byt)"
   ]
  },
  {
   "cell_type": "code",
   "execution_count": 13,
   "metadata": {},
   "outputs": [
    {
     "name": "stdout",
     "output_type": "stream",
     "text": [
      "e\n",
      "n\n",
      "c\n",
      "a\n",
      "a\n",
      "e\n",
      "i\n"
     ]
    }
   ],
   "source": [
    "# indexing\n",
    "v = 'encyclopedia'\n",
    "print(v[0]) #first index\n",
    "print(v[1]) #second index\n",
    "print(v[2]) #third index\n",
    "print(v[11]) #eleventh index\n",
    "#### negative indexing ####\n",
    "print(v[-1]) #last index\n",
    "print(v[-12]) #first index\n",
    "print(v[-2]) #-2"
   ]
  },
  {
   "cell_type": "markdown",
   "metadata": {},
   "source": [
    "### slicing in python\n",
    "\n",
    "x[start : stop]"
   ]
  },
  {
   "cell_type": "code",
   "execution_count": 14,
   "metadata": {},
   "outputs": [
    {
     "name": "stdout",
     "output_type": "stream",
     "text": [
      "cycloped\n"
     ]
    }
   ],
   "source": [
    "a = 'encyclopedia'\n",
    "print(a[2:10]) # last index is not included"
   ]
  },
  {
   "cell_type": "code",
   "execution_count": 20,
   "metadata": {},
   "outputs": [
    {
     "name": "stdout",
     "output_type": "stream",
     "text": [
      "Vijay\n",
      "deenanath\n",
      "chauhan\n"
     ]
    }
   ],
   "source": [
    "name = 'Vijay deenanath chauhan'\n",
    "firstname= name[0:5]\n",
    "print(firstname)\n",
    "middlename= name[6:15]\n",
    "print(middlename)\n",
    "lastname= name[16:23]\n",
    "print(lastname)\n"
   ]
  },
  {
   "cell_type": "code",
   "execution_count": 1,
   "metadata": {},
   "outputs": [
    {
     "name": "stdout",
     "output_type": "stream",
     "text": [
      "[1, 2, 3, 4]\n"
     ]
    }
   ],
   "source": [
    "x=[1,2,3,4]\n",
    "print(x)"
   ]
  },
  {
   "cell_type": "code",
   "execution_count": 21,
   "metadata": {},
   "outputs": [
    {
     "data": {
      "text/plain": [
       "'deenanath chauhan'"
      ]
     },
     "execution_count": 21,
     "metadata": {},
     "output_type": "execute_result"
    }
   ],
   "source": [
    "name[:5] #first 5 characters\n",
    "name[6:] #from 6th index to end\n"
   ]
  },
  {
   "cell_type": "code",
   "execution_count": 22,
   "metadata": {},
   "outputs": [
    {
     "data": {
      "text/plain": [
       "'destination'"
      ]
     },
     "execution_count": 22,
     "metadata": {},
     "output_type": "execute_result"
    }
   ],
   "source": [
    "msg = 'Journey before destination'\n",
    "msg[-11:]"
   ]
  },
  {
   "cell_type": "code",
   "execution_count": 23,
   "metadata": {},
   "outputs": [
    {
     "data": {
      "text/plain": [
       "'Once upon a time'"
      ]
     },
     "execution_count": 23,
     "metadata": {},
     "output_type": "execute_result"
    }
   ],
   "source": [
    "msg= 'Once upon a time, there was a place called eternia'\n",
    "msg[:16]"
   ]
  },
  {
   "cell_type": "code",
   "execution_count": 24,
   "metadata": {},
   "outputs": [
    {
     "name": "stdout",
     "output_type": "stream",
     "text": [
      "800999\n"
     ]
    }
   ],
   "source": [
    "amt= '$800999'\n",
    "num_amt=int(amt[1:])\n",
    "print(num_amt)"
   ]
  },
  {
   "cell_type": "code",
   "execution_count": 25,
   "metadata": {},
   "outputs": [
    {
     "data": {
      "text/plain": [
       "'neuo  ie hr a  lc aldeena'"
      ]
     },
     "execution_count": 25,
     "metadata": {},
     "output_type": "execute_result"
    }
   ],
   "source": [
    "msg[: :2] #every second index\n",
    "msg[1: :2] #every odd index\n"
   ]
  },
  {
   "cell_type": "code",
   "execution_count": 26,
   "metadata": {},
   "outputs": [
    {
     "data": {
      "text/plain": [
       "'ainrete dellac ecalp a saw ereht ,emit a nopu ecnO'"
      ]
     },
     "execution_count": 26,
     "metadata": {},
     "output_type": "execute_result"
    }
   ],
   "source": [
    "#most imp\n",
    "msg[::-1] #reverse the string"
   ]
  },
  {
   "cell_type": "code",
   "execution_count": 27,
   "metadata": {},
   "outputs": [
    {
     "data": {
      "text/plain": [
       "'ainrete'"
      ]
     },
     "execution_count": 27,
     "metadata": {},
     "output_type": "execute_result"
    }
   ],
   "source": [
    "msg[::-1][:7]"
   ]
  },
  {
   "cell_type": "code",
   "execution_count": 28,
   "metadata": {},
   "outputs": [
    {
     "data": {
      "text/plain": [
       "'htananeed'"
      ]
     },
     "execution_count": 28,
     "metadata": {},
     "output_type": "execute_result"
    }
   ],
   "source": [
    "name[6:15][::-1]"
   ]
  },
  {
   "cell_type": "markdown",
   "metadata": {},
   "source": [
    "String methods\n",
    "- formatting\n",
    "- validation\n",
    "- find & replace\n",
    "- etc."
   ]
  },
  {
   "cell_type": "code",
   "execution_count": 4,
   "metadata": {},
   "outputs": [
    {
     "name": "stdout",
     "output_type": "stream",
     "text": [
      "ALL THE GLITTER IS NOT GOLD🪙\n",
      "all the glitter is not gold🪙\n",
      "All the glitter is not gold🪙\n",
      "All The Glitter Is Not Gold🪙\n",
      "ALL THE GLItTeR IS NOT GOLD🪙\n",
      "all the glitter is not gold🪙\n",
      "____________________________________all the gliTtEr is not gold🪙____________________________________\n",
      "________________________________________________________________________all the gliTtEr is not gold🪙\n",
      "all the gliTtEr is not gold🪙________________________________________________________________________\n"
     ]
    }
   ],
   "source": [
    "quote='all the gliTtEr is not gold🪙'\n",
    "print(quote.upper()) #changes into upper case\n",
    "print(quote.lower()) #changes into lower case\n",
    "print(quote.capitalize()) #changes first letter to upper case\n",
    "print(quote.title()) #changes first letter of each word to upper case\n",
    "print(quote.swapcase()) #changes case of each letter\n",
    "print(quote.casefold()) #changes into lower case\n",
    "print(quote.center(100,'_')) #centre alignment centre(width, fill character) *default is empty space centre(100)\n",
    "print(quote.rjust(100,'_'))  #right alignment   (width, fill character)\n",
    "print(quote.ljust(100,'_'))  #left alignment  (width, fill character)"
   ]
  },
  {
   "cell_type": "code",
   "execution_count": 64,
   "metadata": {},
   "outputs": [
    {
     "name": "stdout",
     "output_type": "stream",
     "text": [
      "valid name\n"
     ]
    }
   ],
   "source": [
    "# f=validation\n",
    "name.isnumeric()\n",
    "fname = input('enter your name: (don\\'t use numbers')\n",
    "if fname.isalpha(): #space in string returns false\n",
    "    print('valid name')\n",
    "else: print('what kind of name is this?')\n"
   ]
  },
  {
   "cell_type": "code",
   "execution_count": 66,
   "metadata": {},
   "outputs": [
    {
     "data": {
      "text/plain": [
       "30"
      ]
     },
     "execution_count": 66,
     "metadata": {},
     "output_type": "execute_result"
    }
   ],
   "source": [
    "#find and index methods for searching in strings\n",
    "msg.find('place') #returns the index of the first occurence of the substring\n"
   ]
  },
  {
   "cell_type": "code",
   "execution_count": 75,
   "metadata": {},
   "outputs": [
    {
     "name": "stdout",
     "output_type": "stream",
     "text": [
      "14\n",
      "34\n",
      "69\n"
     ]
    }
   ],
   "source": [
    "data = 'love all hate none, all are equal none should face hate and only get love'\n",
    "print(data.find('none'))\n",
    "print(data.find('none', 15 )) # searches for substring after 15th index\n",
    "# reverse find\n",
    "print(data.rfind('love')) #returns the last occurence of the substring\n"
   ]
  },
  {
   "cell_type": "code",
   "execution_count": 93,
   "metadata": {},
   "outputs": [
    {
     "name": "stdout",
     "output_type": "stream",
     "text": [
      "love⭐all⭐hate⭐none,⭐all⭐are⭐equal⭐none⭐should⭐face⭐hate⭐and⭐only⭐get⭐love\n",
      "kiss⭐all⭐hate⭐none,⭐all⭐are⭐equal⭐none⭐should⭐face⭐hate⭐and⭐only⭐get⭐kiss\n",
      "love⭐all⭐hate⭐none, all are equal none should face hate and only get love\n"
     ]
    }
   ],
   "source": [
    "#replace method\n",
    "print(data.replace(' ', '⭐'))\n",
    "print(data.replace(' ', '⭐').replace('love', 'kiss'))\n",
    "print(data.replace(' ', '⭐', 3)) #replace only thrice"
   ]
  },
  {
   "cell_type": "code",
   "execution_count": 5,
   "metadata": {},
   "outputs": [
    {
     "name": "stdout",
     "output_type": "stream",
     "text": [
      "kjbj oihdov\n",
      "['kjbj', 'oihdov']\n"
     ]
    }
   ],
   "source": [
    "# split and join\n",
    "fruits = input('enter name of fruits')\n",
    "print(fruits)\n",
    "fruitlist = fruits.split()\n",
    "print(fruitlist)"
   ]
  },
  {
   "cell_type": "code",
   "execution_count": 9,
   "metadata": {},
   "outputs": [
    {
     "name": "stdout",
     "output_type": "stream",
     "text": [
      "['life before death', ' strength before weakness', ' journey before destination']\n",
      "['life ', ' death, strength ', ' weakness, journey ', ' destination']\n"
     ]
    }
   ],
   "source": [
    "quote = 'life before death, strength before weakness, journey before destination'\n",
    "print(quote.split(','))\n",
    "print(quote.split('before')) #before will not be printed \n"
   ]
  },
  {
   "cell_type": "code",
   "execution_count": 13,
   "metadata": {},
   "outputs": [
    {
     "name": "stdout",
     "output_type": "stream",
     "text": [
      "['johhny johnny, yes papa', 'eating sugar? no papa', 'telling lies? no papa', 'open your mouth, ha ha ha']\n"
     ]
    }
   ],
   "source": [
    "poem = '''johhny johnny, yes papa\n",
    "eating sugar? no papa\n",
    "telling lies? no papa\n",
    "open your mouth, ha ha ha'''\n",
    "print(poem.splitlines())\n",
    "#print(poem.split('\\n')) alternate way"
   ]
  },
  {
   "cell_type": "code",
   "execution_count": 18,
   "metadata": {},
   "outputs": [
    {
     "data": {
      "text/plain": [
       "'C/users/atharv/desktop/file.txt'"
      ]
     },
     "execution_count": 18,
     "metadata": {},
     "output_type": "execute_result"
    }
   ],
   "source": [
    "addr= ['C', 'users', 'atharv', 'desktop', 'file.txt']\n",
    "\"/\".join(addr) #joins using '/'\n"
   ]
  },
  {
   "cell_type": "code",
   "execution_count": 26,
   "metadata": {},
   "outputs": [
    {
     "name": "stdout",
     "output_type": "stream",
     "text": [
      "['atharv', 'june', ' 2005']\n",
      "img_atharv_june_ 2005.jpg\n"
     ]
    }
   ],
   "source": [
    "data = input('enter your name, month of birth and year seperated by comma')\n",
    "words = data.split(',')\n",
    "print(words)\n",
    "name = '_'.join(words)\n",
    "print(f'img_{name}.jpg')"
   ]
  },
  {
   "cell_type": "code",
   "execution_count": 71,
   "metadata": {},
   "outputs": [
    {
     "name": "stdout",
     "output_type": "stream",
     "text": [
      "hello\n"
     ]
    }
   ],
   "source": [
    "abcd= input('enter a string')\n",
    "print(abcd)"
   ]
  },
  {
   "cell_type": "code",
   "execution_count": 72,
   "metadata": {},
   "outputs": [
    {
     "name": "stdout",
     "output_type": "stream",
     "text": [
      "5\n"
     ]
    }
   ],
   "source": [
    "print(len(abcd))"
   ]
  },
  {
   "cell_type": "code",
   "execution_count": 73,
   "metadata": {},
   "outputs": [
    {
     "name": "stdout",
     "output_type": "stream",
     "text": [
      "great\n"
     ]
    }
   ],
   "source": [
    "data = 'python is great'\n",
    "print(data[-5:])"
   ]
  },
  {
   "cell_type": "code",
   "execution_count": 74,
   "metadata": {},
   "outputs": [
    {
     "name": "stdout",
     "output_type": "stream",
     "text": [
      "python\n",
      "is\n",
      "everywhere\n"
     ]
    }
   ],
   "source": [
    "bdata='python is everywhere'.split()\n",
    "print(bdata[0])\n",
    "print(bdata[1])\n",
    "print(bdata[2])\n",
    "\n"
   ]
  },
  {
   "cell_type": "code",
   "execution_count": 75,
   "metadata": {},
   "outputs": [
    {
     "name": "stdout",
     "output_type": "stream",
     "text": [
      "dlrow olleh\n"
     ]
    }
   ],
   "source": [
    "print('hello world'[::-1])"
   ]
  },
  {
   "cell_type": "code",
   "execution_count": 76,
   "metadata": {},
   "outputs": [
    {
     "name": "stdout",
     "output_type": "stream",
     "text": [
      "HOW ARE YOU\n"
     ]
    }
   ],
   "source": [
    "print('how are you'.upper())"
   ]
  },
  {
   "cell_type": "code",
   "execution_count": 77,
   "metadata": {},
   "outputs": [
    {
     "name": "stdout",
     "output_type": "stream",
     "text": [
      "how is it going\n"
     ]
    }
   ],
   "source": [
    "print('HOW IS IT GOING'.lower())"
   ]
  },
  {
   "cell_type": "code",
   "execution_count": 78,
   "metadata": {},
   "outputs": [
    {
     "data": {
      "text/plain": [
       "'python is easy to learn'"
      ]
     },
     "execution_count": 78,
     "metadata": {},
     "output_type": "execute_result"
    }
   ],
   "source": [
    "words= ['python' , 'is' , 'easy' , 'to' , 'learn']\n",
    "\" \".join(words)"
   ]
  },
  {
   "cell_type": "code",
   "execution_count": 82,
   "metadata": {},
   "outputs": [
    {
     "name": "stdout",
     "output_type": "stream",
     "text": [
      "johhny johnny, yes papa\n",
      "eating sugar? no papa\n",
      "telling lies? no papa\n",
      "open your mouth, ha ha ha\n"
     ]
    }
   ],
   "source": [
    "print(poem)"
   ]
  },
  {
   "cell_type": "code",
   "execution_count": 79,
   "metadata": {},
   "outputs": [
    {
     "name": "stdout",
     "output_type": "stream",
     "text": [
      "to move to new line '\\n' is used\n"
     ]
    }
   ],
   "source": [
    "print('to move to new line \\'\\\\n\\' is used')"
   ]
  },
  {
   "cell_type": "code",
   "execution_count": 80,
   "metadata": {},
   "outputs": [
    {
     "name": "stdout",
     "output_type": "stream",
     "text": [
      "the variable is 789\n"
     ]
    }
   ],
   "source": [
    "cdata= int(input('enter a number'))\n",
    "print(f'the variable is {cdata}')"
   ]
  },
  {
   "cell_type": "code",
   "execution_count": 81,
   "metadata": {},
   "outputs": [
    {
     "name": "stdout",
     "output_type": "stream",
     "text": [
      " python is everywhere\n"
     ]
    }
   ],
   "source": [
    "s1 = 'python'\n",
    "s2 = 'is'\n",
    "s3 = 'everywhere'\n",
    "print(f' {s1} {s2} {s3}')"
   ]
  },
  {
   "cell_type": "code",
   "execution_count": 84,
   "metadata": {},
   "outputs": [
    {
     "data": {
      "text/plain": [
       "3"
      ]
     },
     "execution_count": 84,
     "metadata": {},
     "output_type": "execute_result"
    }
   ],
   "source": [
    "# count method\n",
    "quote.count('before') #counts no. of occurence of before in quote"
   ]
  },
  {
   "cell_type": "code",
   "execution_count": 87,
   "metadata": {},
   "outputs": [
    {
     "name": "stdout",
     "output_type": "stream",
     "text": [
      "hello sir\n"
     ]
    }
   ],
   "source": [
    "#startswith method\n",
    "name = input('enter yout name')\n",
    "if name.startswith('Mr'): print('hello sir')\n",
    "else: print(f\"oye {name}\")"
   ]
  },
  {
   "cell_type": "code",
   "execution_count": 89,
   "metadata": {},
   "outputs": [
    {
     "name": "stdout",
     "output_type": "stream",
     "text": [
      "no extension provided\n"
     ]
    }
   ],
   "source": [
    "# endswith method\n",
    "filename = input('enter file name')\n",
    "if filename.endswith('.csv'):\n",
    "    print('dataset file')\n",
    "elif filename.endswith('.txt'):\n",
    "    print('text file')\n",
    "elif filename.endswith('.jpg'):\n",
    "    print('image file')\n",
    "else:\n",
    "    print('no extension provided')"
   ]
  },
  {
   "cell_type": "code",
   "execution_count": 97,
   "metadata": {},
   "outputs": [
    {
     "name": "stdout",
     "output_type": "stream",
     "text": [
      "wiugfw\n",
      "chars in movie name: 6\n",
      "hello world\n"
     ]
    }
   ],
   "source": [
    "#strip method (removes trailing(rstrip) and leading(lstrip) empty spaces)\n",
    "movie = input('enter movie name:').strip()\n",
    "print(movie)\n",
    "print(f'chars in movie name: {len(movie)}')\n",
    "print('\\n\\n\\nhello world\\n\\n\\n'.strip()) #removes empty lines too"
   ]
  },
  {
   "cell_type": "code",
   "execution_count": 98,
   "metadata": {},
   "outputs": [
    {
     "name": "stdout",
     "output_type": "stream",
     "text": [
      "hello\n"
     ]
    }
   ],
   "source": [
    "print(',,,,hello****'.strip(',*')) #can remove specific data too"
   ]
  }
 ],
 "metadata": {
  "kernelspec": {
   "display_name": "base",
   "language": "python",
   "name": "python3"
  },
  "language_info": {
   "codemirror_mode": {
    "name": "ipython",
    "version": 3
   },
   "file_extension": ".py",
   "mimetype": "text/x-python",
   "name": "python",
   "nbconvert_exporter": "python",
   "pygments_lexer": "ipython3",
   "version": "3.12.3"
  }
 },
 "nbformat": 4,
 "nbformat_minor": 2
}
