{
 "cells": [
  {
   "cell_type": "markdown",
   "metadata": {},
   "source": [
    "- creating\n",
    "- indexing\n",
    "- methods\n",
    "- tips and tricks"
   ]
  },
  {
   "cell_type": "code",
   "execution_count": 3,
   "metadata": {},
   "outputs": [],
   "source": [
    "#creating\n",
    "a = 'apples'\n",
    "b = \"apples\"\n",
    "c = '''this is a\n",
    "multiline\n",
    "string'''\n",
    "d = str(9879)\n"
   ]
  },
  {
   "cell_type": "code",
   "execution_count": 7,
   "metadata": {},
   "outputs": [
    {
     "name": "stdout",
     "output_type": "stream",
     "text": [
      "apples is a fruit\n"
     ]
    }
   ],
   "source": [
    "#types of string\n",
    "# f-string\n",
    "x = f'{a} is a fruit'\n",
    "print (x)\n",
    "# raw string\n",
    "addr= r'c:\\users\\atharv\\desktop' #in raw strings special character behave normally\n",
    "# unicode string\n",
    "uni = u'hello'\n",
    "print(uni)\n",
    "#byte string\n",
    "byt= b'hello' # helps in storing data of images, vid, etc in bytes\n",
    "print(byt)"
   ]
  },
  {
   "cell_type": "code",
   "execution_count": 13,
   "metadata": {},
   "outputs": [
    {
     "name": "stdout",
     "output_type": "stream",
     "text": [
      "e\n",
      "n\n",
      "c\n",
      "a\n",
      "a\n",
      "e\n",
      "i\n"
     ]
    }
   ],
   "source": [
    "# indexing\n",
    "v = 'encyclopedia'\n",
    "print(v[0]) #first index\n",
    "print(v[1]) #second index\n",
    "print(v[2]) #third index\n",
    "print(v[11]) #eleventh index\n",
    "#### negative indexing ####\n",
    "print(v[-1]) #last index\n",
    "print(v[-12]) #first index\n",
    "print(v[-2]) #-2"
   ]
  },
  {
   "cell_type": "markdown",
   "metadata": {},
   "source": [
    "### slicing in python\n",
    "\n",
    "x[start : stop]"
   ]
  },
  {
   "cell_type": "code",
   "execution_count": 14,
   "metadata": {},
   "outputs": [
    {
     "name": "stdout",
     "output_type": "stream",
     "text": [
      "cycloped\n"
     ]
    }
   ],
   "source": [
    "a = 'encyclopedia'\n",
    "print(a[2:10]) # last index is not included"
   ]
  },
  {
   "cell_type": "code",
   "execution_count": 20,
   "metadata": {},
   "outputs": [
    {
     "name": "stdout",
     "output_type": "stream",
     "text": [
      "Vijay\n",
      "deenanath\n",
      "chauhan\n"
     ]
    }
   ],
   "source": [
    "name = 'Vijay deenanath chauhan'\n",
    "firstname= name[0:5]\n",
    "print(firstname)\n",
    "middlename= name[6:15]\n",
    "print(middlename)\n",
    "lastname= name[16:23]\n",
    "print(lastname)\n"
   ]
  },
  {
   "cell_type": "code",
   "execution_count": 21,
   "metadata": {},
   "outputs": [
    {
     "data": {
      "text/plain": [
       "'deenanath chauhan'"
      ]
     },
     "execution_count": 21,
     "metadata": {},
     "output_type": "execute_result"
    }
   ],
   "source": [
    "name[:5] #first 5 characters\n",
    "name[6:] #from 6th index to end\n"
   ]
  },
  {
   "cell_type": "code",
   "execution_count": 22,
   "metadata": {},
   "outputs": [
    {
     "data": {
      "text/plain": [
       "'destination'"
      ]
     },
     "execution_count": 22,
     "metadata": {},
     "output_type": "execute_result"
    }
   ],
   "source": [
    "msg = 'Journey before destination'\n",
    "msg[-11:]"
   ]
  },
  {
   "cell_type": "code",
   "execution_count": 23,
   "metadata": {},
   "outputs": [
    {
     "data": {
      "text/plain": [
       "'Once upon a time'"
      ]
     },
     "execution_count": 23,
     "metadata": {},
     "output_type": "execute_result"
    }
   ],
   "source": [
    "msg= 'Once upon a time, there was a place called eternia'\n",
    "msg[:16]"
   ]
  },
  {
   "cell_type": "code",
   "execution_count": 24,
   "metadata": {},
   "outputs": [
    {
     "name": "stdout",
     "output_type": "stream",
     "text": [
      "800999\n"
     ]
    }
   ],
   "source": [
    "amt= '$800999'\n",
    "num_amt=int(amt[1:])\n",
    "print(num_amt)"
   ]
  },
  {
   "cell_type": "code",
   "execution_count": 25,
   "metadata": {},
   "outputs": [
    {
     "data": {
      "text/plain": [
       "'neuo  ie hr a  lc aldeena'"
      ]
     },
     "execution_count": 25,
     "metadata": {},
     "output_type": "execute_result"
    }
   ],
   "source": [
    "msg[: :2] #every second index\n",
    "msg[1: :2] #every odd index\n"
   ]
  },
  {
   "cell_type": "code",
   "execution_count": 26,
   "metadata": {},
   "outputs": [
    {
     "data": {
      "text/plain": [
       "'ainrete dellac ecalp a saw ereht ,emit a nopu ecnO'"
      ]
     },
     "execution_count": 26,
     "metadata": {},
     "output_type": "execute_result"
    }
   ],
   "source": [
    "#most imp\n",
    "msg[::-1] #reverse the string"
   ]
  },
  {
   "cell_type": "code",
   "execution_count": 27,
   "metadata": {},
   "outputs": [
    {
     "data": {
      "text/plain": [
       "'ainrete'"
      ]
     },
     "execution_count": 27,
     "metadata": {},
     "output_type": "execute_result"
    }
   ],
   "source": [
    "msg[::-1][:7]"
   ]
  },
  {
   "cell_type": "code",
   "execution_count": 28,
   "metadata": {},
   "outputs": [
    {
     "data": {
      "text/plain": [
       "'htananeed'"
      ]
     },
     "execution_count": 28,
     "metadata": {},
     "output_type": "execute_result"
    }
   ],
   "source": [
    "name[6:15][::-1]"
   ]
  },
  {
   "cell_type": "markdown",
   "metadata": {},
   "source": [
    "String methods\n",
    "- formatting\n",
    "- validation\n",
    "- find & replace\n",
    "- etc."
   ]
  },
  {
   "cell_type": "code",
   "execution_count": 60,
   "metadata": {},
   "outputs": [
    {
     "name": "stdout",
     "output_type": "stream",
     "text": [
      "ALL THE GLITTER IS NOT GOLD🪙\n",
      "all the glitter is not gold🪙\n",
      "All the glitter is not gold🪙\n",
      "All The Glitter Is Not Gold🪙\n",
      "ALL THE GLItTeR IS NOT GOLD🪙\n",
      "all the glitter is not gold🪙\n",
      "____________________________________all the gliTtEr is not gold🪙____________________________________\n",
      "________________________________________________________________________all the gliTtEr is not gold🪙\n",
      "all the gliTtEr is not gold🪙________________________________________________________________________\n"
     ]
    }
   ],
   "source": [
    "quote='all the gliTtEr is not gold🪙'\n",
    "print(quote.upper()) #changes into upper case\n",
    "print(quote.lower()) #changes into lower case\n",
    "print(quote.capitalize()) #changes first letter to upper case\n",
    "print(quote.title()) #changes first letter of each word to upper case\n",
    "print(quote.swapcase()) #changes case of each letter\n",
    "print(quote.casefold()) #changes into lower case\n",
    "print(quote.center(100,'_')) #centre alignment centre(width, fill character)\n",
    "print(quote.rjust(100,'_'))  #right alignment   (width, fill character)\n",
    "print(quote.ljust(100,'_'))  #left alignment  (width, fill character)"
   ]
  },
  {
   "cell_type": "code",
   "execution_count": 64,
   "metadata": {},
   "outputs": [
    {
     "name": "stdout",
     "output_type": "stream",
     "text": [
      "valid name\n"
     ]
    }
   ],
   "source": [
    "# f=validation\n",
    "name.isnumeric()\n",
    "fname = input('enter your name: (don\\'t use numbers')\n",
    "if fname.isalpha(): #space in string returns false\n",
    "    print('valid name')\n",
    "else: print('what kind of name is this?')\n"
   ]
  },
  {
   "cell_type": "code",
   "execution_count": 66,
   "metadata": {},
   "outputs": [
    {
     "data": {
      "text/plain": [
       "30"
      ]
     },
     "execution_count": 66,
     "metadata": {},
     "output_type": "execute_result"
    }
   ],
   "source": [
    "#find and index methods for searching in strings\n",
    "msg.find('place') #returns the index of the first occurence of the substring\n"
   ]
  },
  {
   "cell_type": "code",
   "execution_count": 75,
   "metadata": {},
   "outputs": [
    {
     "name": "stdout",
     "output_type": "stream",
     "text": [
      "14\n",
      "34\n",
      "69\n"
     ]
    }
   ],
   "source": [
    "data = 'love all hate none, all are equal none should face hate and only get love'\n",
    "print(data.find('none'))\n",
    "print(data.find('none', 15 )) # searches for substring after 15th index\n",
    "# reverse find\n",
    "print(data.rfind('love')) #returns the last occurence of the substring\n"
   ]
  },
  {
   "cell_type": "code",
   "execution_count": 93,
   "metadata": {},
   "outputs": [
    {
     "name": "stdout",
     "output_type": "stream",
     "text": [
      "love⭐all⭐hate⭐none,⭐all⭐are⭐equal⭐none⭐should⭐face⭐hate⭐and⭐only⭐get⭐love\n",
      "kiss⭐all⭐hate⭐none,⭐all⭐are⭐equal⭐none⭐should⭐face⭐hate⭐and⭐only⭐get⭐kiss\n",
      "love⭐all⭐hate⭐none, all are equal none should face hate and only get love\n"
     ]
    }
   ],
   "source": [
    "#replace method\n",
    "print(data.replace(' ', '⭐'))\n",
    "print(data.replace(' ', '⭐').replace('love', 'kiss'))\n",
    "print(data.replace(' ', '⭐', 3)) #replace only thrice"
   ]
  }
 ],
 "metadata": {
  "kernelspec": {
   "display_name": "base",
   "language": "python",
   "name": "python3"
  },
  "language_info": {
   "codemirror_mode": {
    "name": "ipython",
    "version": 3
   },
   "file_extension": ".py",
   "mimetype": "text/x-python",
   "name": "python",
   "nbconvert_exporter": "python",
   "pygments_lexer": "ipython3",
   "version": "3.12.3"
  }
 },
 "nbformat": 4,
 "nbformat_minor": 2
}
