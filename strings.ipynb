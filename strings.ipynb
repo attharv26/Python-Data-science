{
 "cells": [
  {
   "cell_type": "markdown",
   "metadata": {},
   "source": [
    "- creating\n",
    "- indexing\n",
    "- methods\n",
    "- tips and tricks"
   ]
  },
  {
   "cell_type": "code",
   "execution_count": 3,
   "metadata": {},
   "outputs": [],
   "source": [
    "#creating\n",
    "a = 'apples'\n",
    "b = \"apples\"\n",
    "c = '''this is a\n",
    "multiline\n",
    "string'''\n",
    "d = str(9879)\n"
   ]
  },
  {
   "cell_type": "code",
   "execution_count": 7,
   "metadata": {},
   "outputs": [
    {
     "name": "stdout",
     "output_type": "stream",
     "text": [
      "apples is a fruit\n"
     ]
    }
   ],
   "source": [
    "#types of string\n",
    "# f-string\n",
    "x = f'{a} is a fruit'\n",
    "print (x)\n",
    "# raw string\n",
    "addr= r'c:\\users\\atharv\\desktop' #in raw strings special character behave normally\n",
    "# unicode string\n",
    "uni = u'hello'\n",
    "print(uni)\n",
    "#byte string\n",
    "byt= b'hello' # helps in storing data of images, vid, etc in bytes\n",
    "print(byt)"
   ]
  },
  {
   "cell_type": "code",
   "execution_count": 13,
   "metadata": {},
   "outputs": [
    {
     "name": "stdout",
     "output_type": "stream",
     "text": [
      "e\n",
      "n\n",
      "c\n",
      "a\n",
      "a\n",
      "e\n",
      "i\n"
     ]
    }
   ],
   "source": [
    "# indexing\n",
    "v = 'encyclopedia'\n",
    "print(v[0]) #first index\n",
    "print(v[1]) #second index\n",
    "print(v[2]) #third index\n",
    "print(v[11]) #eleventh index\n",
    "#### negative indexing ####\n",
    "print(v[-1]) #last index\n",
    "print(v[-12]) #first index\n",
    "print(v[-2]) #-2"
   ]
  }
 ],
 "metadata": {
  "kernelspec": {
   "display_name": "base",
   "language": "python",
   "name": "python3"
  },
  "language_info": {
   "codemirror_mode": {
    "name": "ipython",
    "version": 3
   },
   "file_extension": ".py",
   "mimetype": "text/x-python",
   "name": "python",
   "nbconvert_exporter": "python",
   "pygments_lexer": "ipython3",
   "version": "3.12.3"
  }
 },
 "nbformat": 4,
 "nbformat_minor": 2
}
