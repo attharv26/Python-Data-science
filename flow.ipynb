{
 "cells": [
  {
   "cell_type": "markdown",
   "metadata": {},
   "source": [
    "# programming flow\n",
    "- conditional flow\n",
    "  - if\n",
    "  - if else\n",
    "  - if elif else\n",
    "  - match case\n",
    "- iterative flow\n",
    "  - for loop\n",
    "  - while loop"
   ]
  },
  {
   "cell_type": "code",
   "execution_count": 1,
   "metadata": {},
   "outputs": [
    {
     "name": "stdout",
     "output_type": "stream",
     "text": [
      "hello everyone\n"
     ]
    }
   ],
   "source": [
    "if 'hello':\n",
    "    print('hello everyone')"
   ]
  },
  {
   "cell_type": "code",
   "execution_count": 4,
   "metadata": {},
   "outputs": [
    {
     "name": "stdout",
     "output_type": "stream",
     "text": [
      "hello everyone\n"
     ]
    }
   ],
   "source": [
    "x= 'hello'\n",
    "if len(x) >= 5:\n",
    "    print('hello everyone')"
   ]
  },
  {
   "cell_type": "code",
   "execution_count": 7,
   "metadata": {},
   "outputs": [
    {
     "name": "stdout",
     "output_type": "stream",
     "text": [
      "it is greater\n"
     ]
    }
   ],
   "source": [
    "a = int(input('enter a number'))\n",
    "if a*2 > 100: print('it is greater')\n",
    "if a+50 > 150:\n",
    "    print('a + 50 is greater than 100')"
   ]
  },
  {
   "cell_type": "code",
   "execution_count": 9,
   "metadata": {},
   "outputs": [
    {
     "name": "stdout",
     "output_type": "stream",
     "text": [
      "odd\n"
     ]
    }
   ],
   "source": [
    "x=int(input('enter a number'))\n",
    "if x%2 == 0: print('even')\n",
    "else:print('odd')"
   ]
  },
  {
   "cell_type": "markdown",
   "metadata": {},
   "source": [
    "### wap to find out the total salary of the employee based on the follwing data\n",
    "```\n",
    "total salary : user input\n",
    "hra= 5%\n",
    "da= 3.3%\n",
    "ta= 2.61%\n",
    "```\n",
    "`total= salary + da + ta + hra`\n",
    "\n",
    "*rules*\n",
    "\n",
    "`f hra is less than 1000 then dont add hra to total`"
   ]
  },
  {
   "cell_type": "code",
   "execution_count": 4,
   "metadata": {},
   "outputs": [
    {
     "name": "stdout",
     "output_type": "stream",
     "text": [
      "total salary= 10.591\n"
     ]
    }
   ],
   "source": [
    "sal= float(input('enter the salary'))\n",
    "hra= sal*5 / 100\n",
    "da= sal*3.3 / 100\n",
    "ta= sal*2.61 / 100\n",
    "if hra < 1000: print(f'total salary= {sal+da+ta}')\n",
    "else: print(f'total salary = {sal+hra+da+ta}')"
   ]
  },
  {
   "cell_type": "code",
   "execution_count": 5,
   "metadata": {},
   "outputs": [
    {
     "name": "stdout",
     "output_type": "stream",
     "text": [
      "total salary= 10.591\n"
     ]
    }
   ],
   "source": [
    "sal= float(input(\"enter the salary\"))\n",
    "if (0.05*sal)<1000:print(f'total salary= {sal+(0.033+0.0261)*sal}')\n",
    "else:print(f'total salary = {sal+(0.05+0.033+0.0261)*sal}')\n"
   ]
  },
  {
   "cell_type": "code",
   "execution_count": 14,
   "metadata": {},
   "outputs": [
    {
     "name": "stdout",
     "output_type": "stream",
     "text": [
      "Movie: ZNMD\n",
      "⭐⭐⭐ (average)\n"
     ]
    }
   ],
   "source": [
    "name = input(\"enter movie name\")\n",
    "num_str = input(\"enter movie rating\")\n",
    "if num_str.isnumeric():\n",
    "    num=int(num_str)\n",
    "    print(f'Movie: {name}')\n",
    "    if num == 1: print(\"⭐ (terrible)\")\n",
    "    elif num == 2:print(\"⭐⭐ (bad)\")\n",
    "    elif num == 3:print(\"⭐⭐⭐ (average)\")\n",
    "    elif num == 4:print(\"⭐⭐⭐⭐ (good)\")\n",
    "    elif num == 5:print(\"⭐⭐⭐⭐⭐ (excellent)\")\n",
    "else: print('invalid rating')"
   ]
  },
  {
   "cell_type": "code",
   "execution_count": 29,
   "metadata": {},
   "outputs": [
    {
     "name": "stdout",
     "output_type": "stream",
     "text": [
      "Data science class\n"
     ]
    }
   ],
   "source": [
    "# match case - used to match multiple values\n",
    "day = input('enter a day of the week: ').lower().strip()\n",
    "match day:\n",
    "    case 'monday'| 'tuesday' | 'wednesday' | 'friday': print('Data science class')\n",
    "    case 'thursday': print('holiday')\n",
    "    case 'saturday'| 'sunday': print('holiday')\n",
    "    case _: print('invalid day') #default case"
   ]
  },
  {
   "cell_type": "markdown",
   "metadata": {},
   "source": [
    "### Single line conditions"
   ]
  },
  {
   "cell_type": "code",
   "execution_count": 20,
   "metadata": {},
   "outputs": [
    {
     "name": "stdout",
     "output_type": "stream",
     "text": [
      "below 100\n"
     ]
    }
   ],
   "source": [
    "x = int(input('enter a number'))\n",
    "print('above 100' if x>100 else 'below 100')"
   ]
  },
  {
   "cell_type": "markdown",
   "metadata": {},
   "source": [
    "#### For loop\n",
    " - step based\n",
    " - traversal\n",
    "#### While loop\n",
    " - condition based"
   ]
  },
  {
   "cell_type": "code",
   "execution_count": 23,
   "metadata": {},
   "outputs": [
    {
     "name": "stdout",
     "output_type": "stream",
     "text": [
      "h\n",
      "e\n",
      "l\n",
      "l\n",
      "o\n"
     ]
    }
   ],
   "source": [
    "for var in 'hello': print(var)"
   ]
  },
  {
   "cell_type": "code",
   "execution_count": 4,
   "metadata": {},
   "outputs": [
    {
     "name": "stdout",
     "output_type": "stream",
     "text": [
      "0 red\n",
      "1 green\n",
      "2 blue\n"
     ]
    }
   ],
   "source": [
    "colors= ['red', 'green', 'blue']\n",
    "for i,v in enumerate(colors): print(i, v)"
   ]
  },
  {
   "cell_type": "code",
   "execution_count": 5,
   "metadata": {},
   "outputs": [
    {
     "name": "stdout",
     "output_type": "stream",
     "text": [
      " 12 => 120\n",
      " 56 => 560\n",
      " 7  =>  70\n",
      " 2  =>  20\n",
      " 6  =>  60\n",
      " 10 => 100\n",
      " 20 => 200\n"
     ]
    }
   ],
   "source": [
    "numlist = [12, 56, 7 ,2 ,6 ,10, 20]\n",
    "for num in numlist: print(f'{num:< 3} => {num*10:>3}')"
   ]
  },
  {
   "cell_type": "markdown",
   "metadata": {},
   "source": [
    "range(value): `start from 0, go to value`\n",
    "\n",
    "range (a , b): `start from a, go to b-1`\n",
    "\n",
    "range(a ,b, c): `start from a, go to b-1 with step c`"
   ]
  },
  {
   "cell_type": "code",
   "execution_count": 6,
   "metadata": {},
   "outputs": [
    {
     "name": "stdout",
     "output_type": "stream",
     "text": [
      "13 *  1 =  13\n",
      "13 *  2 =  26\n",
      "13 *  3 =  39\n",
      "13 *  4 =  52\n",
      "13 *  5 =  65\n",
      "13 *  6 =  78\n",
      "13 *  7 =  91\n",
      "13 *  8 = 104\n",
      "13 *  9 = 117\n",
      "13 * 10 = 130\n"
     ]
    }
   ],
   "source": [
    "for i in range(1 ,11): print(f'13 * {i:>2} = {13*i:>3}')"
   ]
  },
  {
   "cell_type": "code",
   "execution_count": 7,
   "metadata": {},
   "outputs": [
    {
     "name": "stdout",
     "output_type": "stream",
     "text": [
      "1\n",
      "3\n",
      "5\n",
      "7\n",
      "9\n",
      "11\n",
      "13\n",
      "15\n",
      "17\n",
      "19\n",
      "21\n",
      "23\n",
      "25\n",
      "27\n",
      "29\n",
      "31\n",
      "33\n",
      "35\n",
      "37\n",
      "39\n",
      "41\n",
      "43\n",
      "45\n",
      "47\n",
      "49\n",
      "51\n",
      "53\n",
      "55\n",
      "57\n",
      "59\n",
      "61\n",
      "63\n",
      "65\n",
      "67\n",
      "69\n",
      "71\n",
      "73\n",
      "75\n",
      "77\n",
      "79\n",
      "81\n",
      "83\n",
      "85\n",
      "87\n",
      "89\n",
      "91\n",
      "93\n",
      "95\n",
      "97\n",
      "99\n"
     ]
    }
   ],
   "source": [
    "for i in range(1 ,101, 2): print(f'{i}')"
   ]
  },
  {
   "cell_type": "code",
   "execution_count": 8,
   "metadata": {},
   "outputs": [
    {
     "name": "stdout",
     "output_type": "stream",
     "text": [
      "99\n",
      "97\n",
      "95\n",
      "93\n",
      "91\n",
      "89\n",
      "87\n",
      "85\n",
      "83\n",
      "81\n",
      "79\n",
      "77\n",
      "75\n",
      "73\n",
      "71\n",
      "69\n",
      "67\n",
      "65\n",
      "63\n",
      "61\n",
      "59\n",
      "57\n",
      "55\n",
      "53\n",
      "51\n",
      "49\n",
      "47\n",
      "45\n",
      "43\n",
      "41\n",
      "39\n",
      "37\n",
      "35\n",
      "33\n",
      "31\n",
      "29\n",
      "27\n",
      "25\n",
      "23\n",
      "21\n",
      "19\n",
      "17\n",
      "15\n",
      "13\n",
      "11\n",
      "9\n",
      "7\n",
      "5\n",
      "3\n",
      "1\n"
     ]
    }
   ],
   "source": [
    "#reverse loop\n",
    "for i in range(99, -1, -2): print(f'{i}')"
   ]
  },
  {
   "cell_type": "markdown",
   "metadata": {},
   "source": [
    "5-06-24\n",
    " - nested\n",
    " - break and continue\n",
    " - for- else"
   ]
  },
  {
   "cell_type": "code",
   "execution_count": 19,
   "metadata": {},
   "outputs": [
    {
     "name": "stdout",
     "output_type": "stream",
     "text": [
      "123\n",
      "123\n",
      "123\n",
      "123\n",
      "123\n",
      "123\n",
      "123\n",
      "123\n",
      "123\n",
      "123\n"
     ]
    }
   ],
   "source": [
    "for i in range(1,11):\n",
    "    for i in range(1,4):\n",
    "        print(i,end='')\n",
    "    print()"
   ]
  },
  {
   "cell_type": "code",
   "execution_count": 26,
   "metadata": {},
   "outputs": [
    {
     "name": "stdout",
     "output_type": "stream",
     "text": [
      "1|john|25|\n",
      "2|jane|22|\n",
      "3|doe|30|engineer|\n"
     ]
    }
   ],
   "source": [
    "cdata = [\n",
    "    [1, 'john', 25],\n",
    "    [2, 'jane', 22],\n",
    "    [3, 'doe', 30, 'engineer']\n",
    "]\n",
    "for row in cdata:\n",
    "    for item in row:\n",
    "        print(item, end='|')\n",
    "    print()"
   ]
  },
  {
   "cell_type": "code",
   "execution_count": 30,
   "metadata": {},
   "outputs": [
    {
     "name": "stdout",
     "output_type": "stream",
     "text": [
      "12\n",
      "45\n",
      "67\n",
      "23\n",
      "45\n",
      "67\n",
      "34\n",
      "56\n",
      "78\n",
      "23\n",
      "45\n",
      "23\n",
      "34\n",
      "56\n",
      "78\n"
     ]
    }
   ],
   "source": [
    "more_data=[\n",
    "    [[12,45,67], [23,45,67], [34,56,78]],\n",
    "    [[23,45,23],[34,56,78]],\n",
    "]\n",
    "for row in more_data:\n",
    "    for column in row:\n",
    "        for item in column:\n",
    "            print(item, end='')\n",
    "            print()"
   ]
  },
  {
   "cell_type": "code",
   "execution_count": 31,
   "metadata": {},
   "outputs": [
    {
     "name": "stdout",
     "output_type": "stream",
     "text": [
      "1\n",
      "2\n",
      "3\n",
      "4\n",
      "loop executed\n"
     ]
    }
   ],
   "source": [
    "#break\n",
    "x = [1,2,3,4,-1,5,6,7]\n",
    "for i in x:\n",
    "    if(i<0):\n",
    "        break\n",
    "    print(i)\n",
    "print('loop executed')"
   ]
  },
  {
   "cell_type": "code",
   "execution_count": 61,
   "metadata": {},
   "outputs": [
    {
     "name": "stdout",
     "output_type": "stream",
     "text": [
      "1 2 3 5 8 9 \n",
      "Alternate way\n",
      "1 2 3 5 8 9 "
     ]
    }
   ],
   "source": [
    "#continue\n",
    "crap= [1,2,3,'4',5,'6', '7',8,9,'10']\n",
    "for i in crap:\n",
    "    if isinstance(i ,str):\n",
    "        continue #skips next statement if condition is found to be true\n",
    "    print(i, end=' ')\n",
    "##############\n",
    "print('\\nAlternate way')\n",
    "for i in crap:\n",
    "    if isinstance(i ,int):\n",
    "        print(i, end=' ')"
   ]
  },
  {
   "cell_type": "code",
   "execution_count": 69,
   "metadata": {},
   "outputs": [
    {
     "name": "stdout",
     "output_type": "stream",
     "text": [
      "1\n",
      "2\n",
      "3\n",
      "count: 3\n"
     ]
    }
   ],
   "source": [
    "#for-else\n",
    "# adding a check for loop completion\n",
    "\n",
    "#####non-pythonic code#####\n",
    "data = [1,2,3,4,5,6,7,8,9,10]\n",
    "stop_val=int(input('enter the no to stop at:'))\n",
    "counter =0\n",
    "for i in data:\n",
    "    if stop_val == i:\n",
    "        break\n",
    "    print(i)\n",
    "    counter+=1\n",
    "print(f'count: {counter}')\n",
    "if counter == len(data):\n",
    "    print('loop\\'s all  steps completed')"
   ]
  },
  {
   "cell_type": "code",
   "execution_count": 73,
   "metadata": {},
   "outputs": [
    {
     "name": "stdout",
     "output_type": "stream",
     "text": [
      "1\n",
      "2\n",
      "3\n",
      "loop stopped at 4\n"
     ]
    }
   ],
   "source": [
    "####pythonic code####\n",
    "data = [1,2,3,4,5,6,7,8,9,10]\n",
    "stop_val=int(input('enter the no to stop at:'))\n",
    "for i in data:\n",
    "    if stop_val == i:\n",
    "        print(f'loop stopped at {i}')\n",
    "        break\n",
    "    print(i)\n",
    "else: print(\"loop completed all steps\")"
   ]
  }
 ],
 "metadata": {
  "kernelspec": {
   "display_name": "base",
   "language": "python",
   "name": "python3"
  },
  "language_info": {
   "codemirror_mode": {
    "name": "ipython",
    "version": 3
   },
   "file_extension": ".py",
   "mimetype": "text/x-python",
   "name": "python",
   "nbconvert_exporter": "python",
   "pygments_lexer": "ipython3",
   "version": "3.12.3"
  }
 },
 "nbformat": 4,
 "nbformat_minor": 2
}
