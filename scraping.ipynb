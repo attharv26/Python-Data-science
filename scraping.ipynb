{
 "cells": [
  {
   "cell_type": "code",
   "execution_count": 1,
   "metadata": {},
   "outputs": [],
   "source": [
    "from dputils.scrape import Scraper, Tag"
   ]
  },
  {
   "cell_type": "code",
   "execution_count": 2,
   "metadata": {},
   "outputs": [],
   "source": [
    "url = 'https://www.flipkart.com/motorola-g64-5g-ice-lilac-128-gb/p/itm36e3ccb6c9dee?pid=MOBGY2JUZHAXQ8ZG&lid=LSTMOBGY2JUZHAXQ8ZGKQ5SOK&marketplace=FLIPKART&store=tyy%2F4io&spotlightTagId=BestsellerId_tyy%2F4io&srno=b_1_1&otracker=browse&fm=organic&iid=73bdfa32-46bf-4593-bb00-492daeabdac6.MOBGY2JUZHAXQ8ZG.SEARCH&ppt=browse&ppn=browse&ssid=xx8aqfu1j40000001721542678747'\n",
    "s1 = Scraper(url)"
   ]
  },
  {
   "cell_type": "code",
   "execution_count": 7,
   "metadata": {},
   "outputs": [
    {
     "data": {
      "text/plain": [
       "{'heading': 'Motorola g64 5G (Ice Lilac, 128 GB)\\xa0\\xa0(8 GB RAM)',\n",
       " 'price': '₹13,999'}"
      ]
     },
     "execution_count": 7,
     "metadata": {},
     "output_type": "execute_result"
    }
   ],
   "source": [
    "heading = Tag('h1', cls='_6EBuvT')\n",
    "price = Tag(cls='Nx9bqj CxhGGd')\n",
    "s1.get_data_from_page(heading= heading, price= price)"
   ]
  },
  {
   "cell_type": "markdown",
   "metadata": {},
   "source": [
    "### multiple items from a single page"
   ]
  },
  {
   "cell_type": "code",
   "execution_count": 9,
   "metadata": {},
   "outputs": [],
   "source": [
    "items = Tag(cls='cPHDOP col-12-12')\n",
    "url='https://www.flipkart.com/tyy/4io/~cs-gx0yuchgjb/pr?sid=tyy%2C4io&collection-tab-name=Motorola+g64+5G&param=276890&ctx=eyJjYXJkQ29udGV4dCI6eyJhdHRyaWJ1dGVzIjp7InZhbHVlQ2FsbG91dCI6eyJtdWx0aVZhbHVlZEF0dHJpYnV0ZSI6eyJrZXkiOiJ2YWx1ZUNhbGxvdXQiLCJpbmZlcmVuY2VUeXBlIjoiVkFMVUVfQ0FMTE9VVCIsInZhbHVlcyI6WyJKdXN0IOKCuTEyLDk5OSoiXSwidmFsdWVUeXBlIjoiTVVMVElfVkFMVUVEIn19LCJ0aXRsZSI6eyJtdWx0aVZhbHVlZEF0dHJpYnV0ZSI6eyJrZXkiOiJ0aXRsZSIsImluZmVyZW5jZVR5cGUiOiJUSVRMRSIsInZhbHVlcyI6WyJtb3RvIGc2NCA1RyJdLCJ2YWx1ZVR5cGUiOiJNVUxUSV9WQUxVRUQifX0sImhlcm9QaWQiOnsic2luZ2xlVmFsdWVBdHRyaWJ1dGUiOnsia2V5IjoiaGVyb1BpZCIsImluZmVyZW5jZVR5cGUiOiJQSUQiLCJ2YWx1ZSI6Ik1PQkdZMkpVNTNQM0tNRzkiLCJ2YWx1ZVR5cGUiOiJTSU5HTEVfVkFMVUVEIn19fX19'\n",
    "s2= Scraper(url)\n",
    "results = s2.get_repeating_date_from_page(\n",
    "    target = Tag('body'),\n",
    "    items= items,\n",
    "    title = Tag(cls= 'KzDlHZ'),\n",
    "    price = Tag(cls = 'Nx9bqj _4b5DiR'),\n",
    "    ratings= Tag(cls= 'XQDdHH')\n",
    ")\n"
   ]
  },
  {
   "cell_type": "code",
   "execution_count": 10,
   "metadata": {},
   "outputs": [
    {
     "data": {
      "text/html": [
       "<div>\n",
       "<style scoped>\n",
       "    .dataframe tbody tr th:only-of-type {\n",
       "        vertical-align: middle;\n",
       "    }\n",
       "\n",
       "    .dataframe tbody tr th {\n",
       "        vertical-align: top;\n",
       "    }\n",
       "\n",
       "    .dataframe thead th {\n",
       "        text-align: right;\n",
       "    }\n",
       "</style>\n",
       "<table border=\"1\" class=\"dataframe\">\n",
       "  <thead>\n",
       "    <tr style=\"text-align: right;\">\n",
       "      <th></th>\n",
       "      <th>title</th>\n",
       "      <th>price</th>\n",
       "      <th>ratings</th>\n",
       "    </tr>\n",
       "  </thead>\n",
       "  <tbody>\n",
       "    <tr>\n",
       "      <th>0</th>\n",
       "      <td>None</td>\n",
       "      <td>None</td>\n",
       "      <td>None</td>\n",
       "    </tr>\n",
       "    <tr>\n",
       "      <th>1</th>\n",
       "      <td>None</td>\n",
       "      <td>None</td>\n",
       "      <td>None</td>\n",
       "    </tr>\n",
       "    <tr>\n",
       "      <th>2</th>\n",
       "      <td>Motorola g64 5G (Ice Lilac, 128 GB)</td>\n",
       "      <td>₹13,999</td>\n",
       "      <td>4.2</td>\n",
       "    </tr>\n",
       "    <tr>\n",
       "      <th>3</th>\n",
       "      <td>Motorola g64 5G (Mint Green, 128 GB)</td>\n",
       "      <td>₹13,999</td>\n",
       "      <td>4.2</td>\n",
       "    </tr>\n",
       "    <tr>\n",
       "      <th>4</th>\n",
       "      <td>Motorola g64 5G (Pearl Blue, 128 GB)</td>\n",
       "      <td>₹13,999</td>\n",
       "      <td>4.2</td>\n",
       "    </tr>\n",
       "    <tr>\n",
       "      <th>5</th>\n",
       "      <td>Motorola g64 5G (Ice Lilac, 256 GB)</td>\n",
       "      <td>₹15,999</td>\n",
       "      <td>4.2</td>\n",
       "    </tr>\n",
       "    <tr>\n",
       "      <th>6</th>\n",
       "      <td>Motorola g64 5G (Pearl Blue, 256 GB)</td>\n",
       "      <td>₹15,999</td>\n",
       "      <td>4.2</td>\n",
       "    </tr>\n",
       "    <tr>\n",
       "      <th>7</th>\n",
       "      <td>Motorola g64 5G (Mint Green, 256 GB)</td>\n",
       "      <td>₹15,999</td>\n",
       "      <td>4.2</td>\n",
       "    </tr>\n",
       "    <tr>\n",
       "      <th>8</th>\n",
       "      <td>None</td>\n",
       "      <td>None</td>\n",
       "      <td>None</td>\n",
       "    </tr>\n",
       "    <tr>\n",
       "      <th>9</th>\n",
       "      <td>None</td>\n",
       "      <td>None</td>\n",
       "      <td>None</td>\n",
       "    </tr>\n",
       "  </tbody>\n",
       "</table>\n",
       "</div>"
      ],
      "text/plain": [
       "                                  title    price ratings\n",
       "0                                  None     None    None\n",
       "1                                  None     None    None\n",
       "2   Motorola g64 5G (Ice Lilac, 128 GB)  ₹13,999     4.2\n",
       "3  Motorola g64 5G (Mint Green, 128 GB)  ₹13,999     4.2\n",
       "4  Motorola g64 5G (Pearl Blue, 128 GB)  ₹13,999     4.2\n",
       "5   Motorola g64 5G (Ice Lilac, 256 GB)  ₹15,999     4.2\n",
       "6  Motorola g64 5G (Pearl Blue, 256 GB)  ₹15,999     4.2\n",
       "7  Motorola g64 5G (Mint Green, 256 GB)  ₹15,999     4.2\n",
       "8                                  None     None    None\n",
       "9                                  None     None    None"
      ]
     },
     "execution_count": 10,
     "metadata": {},
     "output_type": "execute_result"
    }
   ],
   "source": [
    "import pandas as pd\n",
    "pd.DataFrame(results)"
   ]
  },
  {
   "cell_type": "code",
   "execution_count": null,
   "metadata": {},
   "outputs": [],
   "source": [
    "items = Tag(cls='cPHDOP col-12-12')\n",
    "url=''\n",
    "s2= Scraper(url)\n",
    "results = s2.get_repeating_date_from_page(\n",
    "    target = Tag('body'),\n",
    "    items= items,\n",
    "    title = Tag(cls= 'KzDlHZ'),\n",
    "    price = Tag(cls = 'Nx9bqj _4b5DiR'),\n",
    "    ratings= Tag(cls= 'XQDdHH')\n",
    ")\n"
   ]
  }
 ],
 "metadata": {
  "kernelspec": {
   "display_name": "base",
   "language": "python",
   "name": "python3"
  },
  "language_info": {
   "codemirror_mode": {
    "name": "ipython",
    "version": 3
   },
   "file_extension": ".py",
   "mimetype": "text/x-python",
   "name": "python",
   "nbconvert_exporter": "python",
   "pygments_lexer": "ipython3",
   "version": "3.12.4"
  }
 },
 "nbformat": 4,
 "nbformat_minor": 2
}
